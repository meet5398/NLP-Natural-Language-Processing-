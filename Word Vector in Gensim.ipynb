{
 "cells": [
  {
   "cell_type": "code",
   "execution_count": 1,
   "id": "75b732a9",
   "metadata": {},
   "outputs": [
    {
     "name": "stdout",
     "output_type": "stream",
     "text": [
      "Defaulting to user installation because normal site-packages is not writeable\n",
      "Requirement already satisfied: gensim in c:\\programdata\\anaconda3\\lib\\site-packages (4.1.2)\n",
      "Requirement already satisfied: smart-open>=1.8.1 in c:\\users\\meetm\\appdata\\roaming\\python\\python39\\site-packages (from gensim) (5.2.1)\n",
      "Requirement already satisfied: numpy>=1.17.0 in c:\\programdata\\anaconda3\\lib\\site-packages (from gensim) (1.21.5)\n",
      "Requirement already satisfied: scipy>=0.18.1 in c:\\programdata\\anaconda3\\lib\\site-packages (from gensim) (1.7.3)\n"
     ]
    }
   ],
   "source": [
    "!pip install gensim"
   ]
  },
  {
   "cell_type": "code",
   "execution_count": 4,
   "id": "b834aebc",
   "metadata": {},
   "outputs": [],
   "source": [
    "import gensim.downloader as api\n",
    "#here we are specifying which dataset or what type of word embeding you want to use \n",
    "wv=api.load(\"word2vec-google-news-300\")\n",
    "#word2vec is approach and google-news-300 is dataset(it is trained on 100 billion words)\n",
    "#there are other dataset like glove-twitter-25"
   ]
  },
  {
   "cell_type": "code",
   "execution_count": 1,
   "id": "8bd8df44",
   "metadata": {},
   "outputs": [],
   "source": [
    "#spacy is little bit unconvinience "
   ]
  },
  {
   "cell_type": "code",
   "execution_count": 9,
   "id": "97e5c183",
   "metadata": {},
   "outputs": [
    {
     "data": {
      "text/plain": [
       "0.72915095"
      ]
     },
     "execution_count": 9,
     "metadata": {},
     "output_type": "execute_result"
    }
   ],
   "source": [
    "#checking simillarity of word \n",
    "wv.similarity(w1=\"great\",w2=\"good\")"
   ]
  },
  {
   "cell_type": "code",
   "execution_count": 10,
   "id": "e62622a7",
   "metadata": {},
   "outputs": [
    {
     "data": {
      "text/plain": [
       "0.28772825"
      ]
     },
     "execution_count": 10,
     "metadata": {},
     "output_type": "execute_result"
    }
   ],
   "source": [
    "wv.similarity(\"profit\",\"gain\")"
   ]
  },
  {
   "cell_type": "code",
   "execution_count": 11,
   "id": "9da99830",
   "metadata": {},
   "outputs": [
    {
     "data": {
      "text/plain": [
       "[('great', 0.7291510105133057),\n",
       " ('bad', 0.7190051078796387),\n",
       " ('terrific', 0.6889115571975708),\n",
       " ('decent', 0.6837348341941833),\n",
       " ('nice', 0.6836092472076416),\n",
       " ('excellent', 0.6442928910255432),\n",
       " ('fantastic', 0.6407778263092041),\n",
       " ('better', 0.6120728850364685),\n",
       " ('solid', 0.5806034207344055),\n",
       " ('lousy', 0.5764203071594238)]"
      ]
     },
     "execution_count": 11,
     "metadata": {},
     "output_type": "execute_result"
    }
   ],
   "source": [
    "wv.most_similar(\"good\")\n",
    "#function to find most simillar word"
   ]
  },
  {
   "cell_type": "markdown",
   "id": "492d9ad6",
   "metadata": {},
   "source": [
    "king - man + women = queen <br>\n",
    "franch - paris + Berlin=germany "
   ]
  },
  {
   "cell_type": "code",
   "execution_count": 21,
   "id": "25b317ad",
   "metadata": {},
   "outputs": [
    {
     "data": {
      "text/plain": [
       "[('queen', 0.4827326238155365),\n",
       " ('queens', 0.466781347990036),\n",
       " ('kumaris', 0.4653734564781189),\n",
       " ('kings', 0.4558638632297516),\n",
       " ('womens', 0.422832190990448),\n",
       " ('princes', 0.4176960587501526),\n",
       " ('Al_Anqari', 0.41725507378578186),\n",
       " ('concubines', 0.4011078476905823),\n",
       " ('monarch', 0.39624831080436707),\n",
       " ('monarchy', 0.39430153369903564)]"
      ]
     },
     "execution_count": 21,
     "metadata": {},
     "output_type": "execute_result"
    }
   ],
   "source": [
    "wv.most_similar(positive=[\"king\",\"women\"],negative=[\"man\"])\n",
    "#this will do above nippet thing "
   ]
  },
  {
   "cell_type": "code",
   "execution_count": 23,
   "id": "ae08a82b",
   "metadata": {},
   "outputs": [
    {
     "data": {
      "text/plain": [
       "'Google'"
      ]
     },
     "execution_count": 23,
     "metadata": {},
     "output_type": "execute_result"
    }
   ],
   "source": [
    "# wv.doesnt_match()\n",
    "wv.doesnt_match([\"dog\",\"cat\",\"lion\",\"Google\"])\n",
    "#we can see that google is not matching with other word such as cat dog lion "
   ]
  },
  {
   "cell_type": "code",
   "execution_count": 34,
   "id": "c18d5b75",
   "metadata": {},
   "outputs": [],
   "source": [
    "glv = api.load(\"glove-twitter-25\")\n",
    "#this is based on twitter data set and approach(tchnique) by it is glow "
   ]
  },
  {
   "cell_type": "code",
   "execution_count": 35,
   "id": "a90f729c",
   "metadata": {},
   "outputs": [
    {
     "data": {
      "text/plain": [
       "[('too', 0.9648016691207886),\n",
       " ('day', 0.9533665180206299),\n",
       " ('well', 0.9503170847892761),\n",
       " ('nice', 0.9438973665237427),\n",
       " ('better', 0.9425962567329407),\n",
       " ('fun', 0.941892683506012),\n",
       " ('much', 0.9413353800773621),\n",
       " ('this', 0.9387555122375488),\n",
       " ('hope', 0.9383508563041687),\n",
       " ('great', 0.9378516674041748)]"
      ]
     },
     "execution_count": 35,
     "metadata": {},
     "output_type": "execute_result"
    }
   ],
   "source": [
    "glv.most_similar(\"good\")"
   ]
  },
  {
   "cell_type": "code",
   "execution_count": 36,
   "id": "15cf0aaf",
   "metadata": {},
   "outputs": [
    {
     "data": {
      "text/plain": [
       "'school'"
      ]
     },
     "execution_count": 36,
     "metadata": {},
     "output_type": "execute_result"
    }
   ],
   "source": [
    "glv.doesnt_match(\"banana dragon school apple\".split())"
   ]
  },
  {
   "cell_type": "code",
   "execution_count": null,
   "id": "6b1f32e9",
   "metadata": {},
   "outputs": [],
   "source": []
  }
 ],
 "metadata": {
  "kernelspec": {
   "display_name": "Python 3 (ipykernel)",
   "language": "python",
   "name": "python3"
  },
  "language_info": {
   "codemirror_mode": {
    "name": "ipython",
    "version": 3
   },
   "file_extension": ".py",
   "mimetype": "text/x-python",
   "name": "python",
   "nbconvert_exporter": "python",
   "pygments_lexer": "ipython3",
   "version": "3.9.12"
  }
 },
 "nbformat": 4,
 "nbformat_minor": 5
}
