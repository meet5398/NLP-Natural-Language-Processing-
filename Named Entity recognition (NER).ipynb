{
 "cells": [
  {
   "cell_type": "code",
   "execution_count": 3,
   "id": "a42c99ed",
   "metadata": {},
   "outputs": [],
   "source": [
    "import spacy \n",
    "nlp= spacy.load(\"en_core_web_sm\")"
   ]
  },
  {
   "cell_type": "code",
   "execution_count": 4,
   "id": "ca2d04ce",
   "metadata": {},
   "outputs": [
    {
     "data": {
      "text/plain": [
       "['tok2vec', 'tagger', 'parser', 'attribute_ruler', 'lemmatizer', 'ner']"
      ]
     },
     "execution_count": 4,
     "metadata": {},
     "output_type": "execute_result"
    }
   ],
   "source": [
    "nlp.pipe_names"
   ]
  },
  {
   "cell_type": "code",
   "execution_count": 5,
   "id": "99b0c8a7",
   "metadata": {},
   "outputs": [
    {
     "name": "stdout",
     "output_type": "stream",
     "text": [
      "Tesla Inc | ORG | Companies, agencies, institutions, etc.\n",
      "Twitter | PERSON | People, including fictional\n",
      "$45 billion | MONEY | Monetary values, including unit\n"
     ]
    }
   ],
   "source": [
    "doc = nlp(\"Tesla Inc is going to acquire Twitter for $45 billion\")\n",
    "for ent in doc.ents:\n",
    "    print(ent.text,\"|\",ent.label_,\"|\",spacy.explain(ent.label_))"
   ]
  },
  {
   "cell_type": "code",
   "execution_count": 6,
   "id": "48ac7e5a",
   "metadata": {},
   "outputs": [
    {
     "data": {
      "text/html": [
       "<span class=\"tex2jax_ignore\"><div class=\"entities\" style=\"line-height: 2.5; direction: ltr\">\n",
       "<mark class=\"entity\" style=\"background: #7aecec; padding: 0.45em 0.6em; margin: 0 0.25em; line-height: 1; border-radius: 0.35em;\">\n",
       "    Tesla Inc\n",
       "    <span style=\"font-size: 0.8em; font-weight: bold; line-height: 1; border-radius: 0.35em; vertical-align: middle; margin-left: 0.5rem\">ORG</span>\n",
       "</mark>\n",
       " is going to acquire \n",
       "<mark class=\"entity\" style=\"background: #aa9cfc; padding: 0.45em 0.6em; margin: 0 0.25em; line-height: 1; border-radius: 0.35em;\">\n",
       "    Twitter\n",
       "    <span style=\"font-size: 0.8em; font-weight: bold; line-height: 1; border-radius: 0.35em; vertical-align: middle; margin-left: 0.5rem\">PERSON</span>\n",
       "</mark>\n",
       " for \n",
       "<mark class=\"entity\" style=\"background: #e4e7d2; padding: 0.45em 0.6em; margin: 0 0.25em; line-height: 1; border-radius: 0.35em;\">\n",
       "    $45 billion\n",
       "    <span style=\"font-size: 0.8em; font-weight: bold; line-height: 1; border-radius: 0.35em; vertical-align: middle; margin-left: 0.5rem\">MONEY</span>\n",
       "</mark>\n",
       "</div></span>"
      ],
      "text/plain": [
       "<IPython.core.display.HTML object>"
      ]
     },
     "metadata": {},
     "output_type": "display_data"
    }
   ],
   "source": [
    "from spacy import displacy \n",
    "displacy.render(doc,style=\"ent\")"
   ]
  },
  {
   "cell_type": "code",
   "execution_count": 7,
   "id": "7c4f6a68",
   "metadata": {},
   "outputs": [
    {
     "data": {
      "text/plain": [
       "['CARDINAL',\n",
       " 'DATE',\n",
       " 'EVENT',\n",
       " 'FAC',\n",
       " 'GPE',\n",
       " 'LANGUAGE',\n",
       " 'LAW',\n",
       " 'LOC',\n",
       " 'MONEY',\n",
       " 'NORP',\n",
       " 'ORDINAL',\n",
       " 'ORG',\n",
       " 'PERCENT',\n",
       " 'PERSON',\n",
       " 'PRODUCT',\n",
       " 'QUANTITY',\n",
       " 'TIME',\n",
       " 'WORK_OF_ART']"
      ]
     },
     "execution_count": 7,
     "metadata": {},
     "output_type": "execute_result"
    }
   ],
   "source": [
    "nlp.pipe_labels['ner']\n",
    "# this will print all entity present in spacy"
   ]
  },
  {
   "cell_type": "code",
   "execution_count": 10,
   "id": "2e277049",
   "metadata": {},
   "outputs": [
    {
     "name": "stdout",
     "output_type": "stream",
     "text": [
      "Michael Bloomberg | PERSON | People, including fictional\n",
      "Bloomberg L.P | ORG | Companies, agencies, institutions, etc.\n",
      "1982 | DATE | Absolute or relative dates or periods\n"
     ]
    }
   ],
   "source": [
    "doc = nlp(\"Michael Bloomberg founded Bloomberg L.P in 1982\")\n",
    "for ent in doc.ents:\n",
    "    print(ent.text, \"|\", ent.label_,\"|\",spacy.explain(ent.label_))"
   ]
  },
  {
   "cell_type": "code",
   "execution_count": 11,
   "id": "91233ebe",
   "metadata": {},
   "outputs": [
    {
     "name": "stdout",
     "output_type": "stream",
     "text": [
      "Twitter | PERSON\n",
      "$45 billion | MONEY\n"
     ]
    }
   ],
   "source": [
    "doc =nlp(\"tesla is going to acquire Twitter for $45 billion\")\n",
    "for ent in doc.ents:\n",
    "    print(ent.text,\"|\",ent.label_)"
   ]
  },
  {
   "cell_type": "code",
   "execution_count": 13,
   "id": "66bc609a",
   "metadata": {},
   "outputs": [
    {
     "data": {
      "text/plain": [
       "spacy.tokens.doc.Doc"
      ]
     },
     "execution_count": 13,
     "metadata": {},
     "output_type": "execute_result"
    }
   ],
   "source": [
    "type(doc)"
   ]
  },
  {
   "cell_type": "code",
   "execution_count": 24,
   "id": "284bd461",
   "metadata": {},
   "outputs": [
    {
     "name": "stdout",
     "output_type": "stream",
     "text": [
      "going to acquire Twitter\n"
     ]
    },
    {
     "data": {
      "text/plain": [
       "spacy.tokens.span.Span"
      ]
     },
     "execution_count": 24,
     "metadata": {},
     "output_type": "execute_result"
    }
   ],
   "source": [
    "print(doc[2:6])\n",
    "type(doc[2:6])\n",
    "# so when we consider it(object) in particular range then it's type is span not token "
   ]
  },
  {
   "cell_type": "markdown",
   "id": "533c80ce",
   "metadata": {},
   "source": [
    "How to set entity"
   ]
  },
  {
   "cell_type": "code",
   "execution_count": 25,
   "id": "fa0c7924",
   "metadata": {},
   "outputs": [],
   "source": [
    "from spacy.tokens import Span"
   ]
  },
  {
   "cell_type": "code",
   "execution_count": 26,
   "id": "dcfc923f",
   "metadata": {},
   "outputs": [],
   "source": [
    "s1= Span(doc,0,1,label=\"ORG\") # we are giving span of an array where you want to set entity here we are giving it from 0 to 1\n",
    "\n",
    "s2=Span(doc,5,6,label=\"ORG\")# here we are giving span from 5to6 .\n",
    "doc.set_ents([s1,s2],default=\"unmodified\")"
   ]
  },
  {
   "cell_type": "code",
   "execution_count": 28,
   "id": "d16dd993",
   "metadata": {},
   "outputs": [
    {
     "name": "stdout",
     "output_type": "stream",
     "text": [
      "tesla | ORG\n",
      "Twitter | ORG\n",
      "$45 billion | MONEY\n"
     ]
    }
   ],
   "source": [
    "\n",
    "for ent in doc.ents:\n",
    "    print(ent.text,\"|\",ent.label_)\n",
    "# now it will recognize tesla and twitter as organization   "
   ]
  },
  {
   "cell_type": "markdown",
   "id": "45bb4466",
   "metadata": {},
   "source": [
    "How to build my own NER <br>\n",
    "Approach 1 : simple lookup <br>\n",
    "Approach 2 : Rule Based NER<br>\n",
    "spacy provide class entity ruler <br>\n",
    "APproach 3: Machine Learning {CRF(condition Random fields)}"
   ]
  },
  {
   "cell_type": "markdown",
   "id": "19ec0a2d",
   "metadata": {},
   "source": [
    "Approach for converting text into Vector <br>\n",
    "One Hot Encoding <br>\n",
    "Bag of WOrds <br>\n",
    "TF-IDF<br>\n",
    "Word Embeddings\n"
   ]
  },
  {
   "cell_type": "code",
   "execution_count": null,
   "id": "39fe2560",
   "metadata": {},
   "outputs": [],
   "source": []
  }
 ],
 "metadata": {
  "kernelspec": {
   "display_name": "Python 3 (ipykernel)",
   "language": "python",
   "name": "python3"
  },
  "language_info": {
   "codemirror_mode": {
    "name": "ipython",
    "version": 3
   },
   "file_extension": ".py",
   "mimetype": "text/x-python",
   "name": "python",
   "nbconvert_exporter": "python",
   "pygments_lexer": "ipython3",
   "version": "3.9.12"
  }
 },
 "nbformat": 4,
 "nbformat_minor": 5
}
