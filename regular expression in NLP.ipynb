{
 "cells": [
  {
   "cell_type": "code",
   "execution_count": 7,
   "id": "a6cfaca3",
   "metadata": {},
   "outputs": [],
   "source": [
    "import re"
   ]
  },
  {
   "cell_type": "code",
   "execution_count": 39,
   "id": "cea42288",
   "metadata": {},
   "outputs": [],
   "source": [
    "chat1='meetsinh mori metsahsfg@gmail.com 1234567890'\n",
    "chat2='metsth gsthfgfghr rrts@gmail.com 5432343255'\n",
    "chat3='ronak 2343 edf erdvftrvdfggdfg'\n",
    "chat4='(123)-5343-343'\n",
    "chat5='dfsfs_A12@gmail.com'"
   ]
  },
  {
   "cell_type": "code",
   "execution_count": 13,
   "id": "e0f2db9d",
   "metadata": {},
   "outputs": [
    {
     "data": {
      "text/plain": [
       "['1234567890']"
      ]
     },
     "execution_count": 13,
     "metadata": {},
     "output_type": "execute_result"
    }
   ],
   "source": [
    "pattern='\\d{10}'\n",
    "matches=re.findall(pattern,chat1)\n",
    "matches"
   ]
  },
  {
   "cell_type": "code",
   "execution_count": 14,
   "id": "7e6862e5",
   "metadata": {},
   "outputs": [
    {
     "data": {
      "text/plain": [
       "[]"
      ]
     },
     "execution_count": 14,
     "metadata": {},
     "output_type": "execute_result"
    }
   ],
   "source": [
    "pattern='\\d{10}'\n",
    "matches2=re.findall(pattern,chat3)\n",
    "matches2"
   ]
  },
  {
   "cell_type": "code",
   "execution_count": 18,
   "id": "ae17edef",
   "metadata": {},
   "outputs": [
    {
     "data": {
      "text/plain": [
       "['(123)']"
      ]
     },
     "execution_count": 18,
     "metadata": {},
     "output_type": "execute_result"
    }
   ],
   "source": [
    "pattern4='\\(\\d{3}\\)' \n",
    "# we are using this pattern for finding (123) if we will use only () then it will match every thing inside it \n",
    "#like wise here it will match all numbers with 3  digits also so , that's why we are specifying escape character '\\' before bracket and before bracket end \n",
    "matches4=re.findall(pattern4,chat4)\n",
    "matches4"
   ]
  },
  {
   "cell_type": "code",
   "execution_count": 23,
   "id": "def54cce",
   "metadata": {},
   "outputs": [
    {
     "data": {
      "text/plain": [
       "['(123)-5343-343']"
      ]
     },
     "execution_count": 23,
     "metadata": {},
     "output_type": "execute_result"
    }
   ],
   "source": [
    "#now we will match full pattern of chat4\n",
    "pattern5 = '\\(\\d{3}\\)-\\d{4}-\\d{3}'\n",
    "matches5=re.findall(pattern5,chat4)\n",
    "matches5"
   ]
  },
  {
   "cell_type": "code",
   "execution_count": 29,
   "id": "5e13845c",
   "metadata": {},
   "outputs": [
    {
     "name": "stdout",
     "output_type": "stream",
     "text": [
      "['(123)-5343-343']\n",
      "['1234567890']\n"
     ]
    }
   ],
   "source": [
    "#now here I am going to use or operator for that we will use (|) pipe it will match this paater or that for exa: a|b it will \n",
    "#return either of any pattern matches \n",
    "pattern6 = '\\d{10}|\\(\\d{3}\\)-\\d{4}-\\d{3}'\n",
    "matches6=re.findall(pattern6,chat4)\n",
    "matches6b= re.findall(pattern6,chat1)\n",
    "print(matches6)\n",
    "print(matches6b)"
   ]
  },
  {
   "cell_type": "markdown",
   "id": "7f683e58",
   "metadata": {},
   "source": [
    "#now we will look at format of email Id "
   ]
  },
  {
   "cell_type": "code",
   "execution_count": 35,
   "id": "3cc1f5b1",
   "metadata": {},
   "outputs": [
    {
     "data": {
      "text/plain": [
       "['metsahsfg@']"
      ]
     },
     "execution_count": 35,
     "metadata": {},
     "output_type": "execute_result"
    }
   ],
   "source": [
    "pattern7='[a-z0-9A-z_]*@[a-z0-9A-z_]*\\.[a-zA-Z]*'\n",
    "pattern7='[a-z]*@'\n",
    "matches7=re.findall(pattern7,chat1)\n",
    "matches7\n",
    "#so as you can see below it [a-z] will match to for individual  character present and here * will match for all character together\n",
    "# here @ is for paatern of gmail \n",
    "# so , this pattern wil return all text[a-z] before @ including @"
   ]
  },
  {
   "cell_type": "code",
   "execution_count": 40,
   "id": "ceb1e3c5",
   "metadata": {},
   "outputs": [
    {
     "data": {
      "text/plain": [
       "['dfsfs_A12@']"
      ]
     },
     "execution_count": 40,
     "metadata": {},
     "output_type": "execute_result"
    }
   ],
   "source": [
    "#now  simillarly we can create a simillar pattern which will match with digits ,capital letters and _ \n",
    "pattern8='[a-z0-9A-z_]*@'\n",
    "matches8=re.findall(pattern8,chat5)\n",
    "matches8"
   ]
  },
  {
   "cell_type": "code",
   "execution_count": 41,
   "id": "c0e4e4ba",
   "metadata": {},
   "outputs": [
    {
     "data": {
      "text/plain": [
       "['dfsfs_A12@gmail.com']"
      ]
     },
     "execution_count": 41,
     "metadata": {},
     "output_type": "execute_result"
    }
   ],
   "source": [
    "#now we will use it for specifying any domain name \n",
    "#here you can go with any particular domain or general domain depends upon you \n",
    "pattern9='[a-z0-9A-z_]*@[a-z0-9A-z_]*\\.[a-zA-Z]*'\n",
    "#here \\. is for .com ,.in .ac etc\n",
    "#and without * it will match for any single character \n",
    "matches9=re.findall(pattern9,chat5)\n",
    "matches9"
   ]
  },
  {
   "cell_type": "code",
   "execution_count": 42,
   "id": "70f9eb94",
   "metadata": {},
   "outputs": [
    {
     "data": {
      "text/plain": [
       "['dfsfs_A12@gmail.com']"
      ]
     },
     "execution_count": 42,
     "metadata": {},
     "output_type": "execute_result"
    }
   ],
   "source": [
    "#matching for particularly .com\n",
    "pattern10='[a-z0-9A-z_]*@[a-z0-9A-z_]*\\.com'\n",
    "matches10=re.findall(pattern10,chat5)\n",
    "matches10"
   ]
  },
  {
   "cell_type": "markdown",
   "id": "2c9fc841",
   "metadata": {},
   "source": [
    "printing anything accept nubmer ,alphabate or any special character  \\\n",
    "we will use ^"
   ]
  },
  {
   "cell_type": "code",
   "execution_count": 44,
   "id": "1824fc7a",
   "metadata": {},
   "outputs": [
    {
     "data": {
      "text/plain": [
       "['432']"
      ]
     },
     "execution_count": 44,
     "metadata": {},
     "output_type": "execute_result"
    }
   ],
   "source": [
    "chat7='registration id 123434'\n",
    "chat8='registration id-adfdf432'\n"
   ]
  },
  {
   "cell_type": "code",
   "execution_count": 45,
   "id": "e98fba3c",
   "metadata": {},
   "outputs": [
    {
     "data": {
      "text/plain": [
       "['registration id-adfdf']"
      ]
     },
     "execution_count": 45,
     "metadata": {},
     "output_type": "execute_result"
    }
   ],
   "source": [
    "#here we are skiping digits after registration \n",
    "pattern11='registration[^\\d]*'\n",
    "matches11=re.findall(pattern11,chat8)\n",
    "matches11"
   ]
  },
  {
   "cell_type": "code",
   "execution_count": 47,
   "id": "334761ab",
   "metadata": {},
   "outputs": [
    {
     "data": {
      "text/plain": [
       "['registration id-adfdf432']"
      ]
     },
     "execution_count": 47,
     "metadata": {},
     "output_type": "execute_result"
    }
   ],
   "source": [
    "#now if we want to print digits also\n",
    "pattern12='registration[^\\d]*\\d*'\n",
    "matches12=re.findall(pattern12,chat8)\n",
    "matches12"
   ]
  },
  {
   "cell_type": "code",
   "execution_count": 49,
   "id": "128673ec",
   "metadata": {},
   "outputs": [
    {
     "data": {
      "text/plain": [
       "['432']"
      ]
     },
     "execution_count": 49,
     "metadata": {},
     "output_type": "execute_result"
    }
   ],
   "source": [
    "#now if you want to print only digit out of the same pattern we will use () around \\d*\n",
    "#here we are first taking registration then we are skiping all digits and then taking digits and printing only that digits which are after registration only\n",
    "pattern13='registration[^\\d]*(\\d*)'\n",
    "matches13=re.findall(pattern13,chat8)\n",
    "matches13"
   ]
  },
  {
   "cell_type": "markdown",
   "id": "61b6e414",
   "metadata": {},
   "source": [
    "#  information extraction "
   ]
  },
  {
   "cell_type": "code",
   "execution_count": 73,
   "id": "1a8b0035",
   "metadata": {},
   "outputs": [],
   "source": [
    "text = '''Born Ratan Naval Tata\n",
    "28 December 1937 (age 85) \n",
    "Bombay, Bombay Presidency, \n",
    "British India Alma mater Cornell University (BArch)\n",
    "Occupation Industrialist\n",
    "Title Chairman Emeritus, Tata Sons and Tata Group[1]\n",
    "Term \n",
    "1991–2012\n",
    "2016–2017\n",
    "Predecessor J. R. D. Tata\n",
    "Successor \n",
    "Cyrus Mistry (2012–2016)\n",
    "Natarajan Chandrasekaran (2017–present)\n",
    "Parent Naval Tata\n",
    "Relatives ata family\n",
    "Awards \n",
    "Assam Baibhav (2021)\n",
    "Padma Vibhushan (2008)\n",
    "Maharashtra Bhushan (2006)\n",
    "Padma Bhushan (2000)\n",
    "Order of Australia (2023)\n",
    "'''"
   ]
  },
  {
   "cell_type": "code",
   "execution_count": 64,
   "id": "fbdcadf4",
   "metadata": {},
   "outputs": [
    {
     "data": {
      "text/plain": [
       "['85']"
      ]
     },
     "execution_count": 64,
     "metadata": {},
     "output_type": "execute_result"
    }
   ],
   "source": [
    "#finding age of person\n",
    "pattern14 ='age (\\d+)'\n",
    "#here + means  1 or more of d \n",
    "#and if we put * it means that 0 or more than that\n",
    "matches14=re.findall(pattern14,text)\n",
    "matches14"
   ]
  },
  {
   "cell_type": "code",
   "execution_count": 68,
   "id": "2da6e306",
   "metadata": {},
   "outputs": [
    {
     "data": {
      "text/plain": [
       "[' Ratan Naval Tata']"
      ]
     },
     "execution_count": 68,
     "metadata": {},
     "output_type": "execute_result"
    }
   ],
   "source": [
    "#finding birth name \n",
    "pattern15='Born(.*)'\n",
    "# . means any character \n",
    "#* means any character 0 0r more \n",
    "matches15=re.findall(pattern15,text)\n",
    "matches15"
   ]
  },
  {
   "cell_type": "code",
   "execution_count": 70,
   "id": "f48edeaf",
   "metadata": {},
   "outputs": [
    {
     "data": {
      "text/plain": [
       "['28 December 1937 ']"
      ]
     },
     "execution_count": 70,
     "metadata": {},
     "output_type": "execute_result"
    }
   ],
   "source": [
    "#finding birth date of a person\n",
    "pattern16='Born.*\\n(.*)\\(age*'\n",
    "matches16=re.findall(pattern16,text)\n",
    "matches16"
   ]
  },
  {
   "cell_type": "code",
   "execution_count": 71,
   "id": "7f8fc351",
   "metadata": {},
   "outputs": [
    {
     "data": {
      "text/plain": [
       "[]"
      ]
     },
     "execution_count": 71,
     "metadata": {},
     "output_type": "execute_result"
    }
   ],
   "source": [
    "#finding birth place\n",
    "pattern17='\\age.*\\n(.*)'\n",
    "matches17=re.findall(pattern17,text)\n",
    "matches17"
   ]
  },
  {
   "cell_type": "code",
   "execution_count": 80,
   "id": "dc995d37",
   "metadata": {},
   "outputs": [
    {
     "data": {
      "text/plain": [
       "['Bombay, Bombay Presidency, ']"
      ]
     },
     "execution_count": 80,
     "metadata": {},
     "output_type": "execute_result"
    }
   ],
   "source": [
    "pattern18='\\(age.*\\n(.*)'\n",
    "matches18=re.findall(pattern18,text)\n",
    "matches18"
   ]
  },
  {
   "cell_type": "code",
   "execution_count": null,
   "id": "a0425209",
   "metadata": {},
   "outputs": [],
   "source": []
  }
 ],
 "metadata": {
  "kernelspec": {
   "display_name": "Python 3 (ipykernel)",
   "language": "python",
   "name": "python3"
  },
  "language_info": {
   "codemirror_mode": {
    "name": "ipython",
    "version": 3
   },
   "file_extension": ".py",
   "mimetype": "text/x-python",
   "name": "python",
   "nbconvert_exporter": "python",
   "pygments_lexer": "ipython3",
   "version": "3.9.12"
  }
 },
 "nbformat": 4,
 "nbformat_minor": 5
}
