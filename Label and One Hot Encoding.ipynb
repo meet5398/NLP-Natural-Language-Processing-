{
 "cells": [
  {
   "cell_type": "markdown",
   "id": "e256c0ee",
   "metadata": {},
   "source": [
    "people use label encoding and One Hot Encoding in NLP<br>\n",
    "these are primitive ways of representing text into vector<br>\n"
   ]
  },
  {
   "cell_type": "markdown",
   "id": "82ebb3ca",
   "metadata": {},
   "source": [
    "**disadvantages of label encoding and One Hot encoding**\n",
    "* Ohe Hot Encoding doesn't capture meaning in the accurate way (Similar words don't have similar representation).\n",
    "* It consumes too much memory & compute resources.\n",
    "* Out Of Vocabulary (OOV) Problem\n",
    "* No fixed Length Representation"
   ]
  },
  {
   "cell_type": "code",
   "execution_count": null,
   "id": "06ff9191",
   "metadata": {},
   "outputs": [],
   "source": []
  }
 ],
 "metadata": {
  "kernelspec": {
   "display_name": "Python 3 (ipykernel)",
   "language": "python",
   "name": "python3"
  },
  "language_info": {
   "codemirror_mode": {
    "name": "ipython",
    "version": 3
   },
   "file_extension": ".py",
   "mimetype": "text/x-python",
   "name": "python",
   "nbconvert_exporter": "python",
   "pygments_lexer": "ipython3",
   "version": "3.9.12"
  }
 },
 "nbformat": 4,
 "nbformat_minor": 5
}
