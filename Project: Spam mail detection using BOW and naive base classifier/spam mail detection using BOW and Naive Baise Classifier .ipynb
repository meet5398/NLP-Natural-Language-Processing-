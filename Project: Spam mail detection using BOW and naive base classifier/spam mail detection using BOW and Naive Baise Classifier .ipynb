{
 "cells": [
  {
   "cell_type": "markdown",
   "id": "52998073",
   "metadata": {},
   "source": [
    "_make a word count of each of word  repeating in Vocabulary_"
   ]
  },
  {
   "cell_type": "markdown",
   "id": "745b5a16",
   "metadata": {},
   "source": [
    "**Limitation of Bag Of Words**<br>\n",
    "_It consume much memory, yes it is less than One Hot Encoding {It is Sparse Representation : It is vector in which most of the values are 0}_\n",
    "<br>\n",
    "_It does not capture meaning of words properly_\n",
    "<br>\n",
    "\n"
   ]
  },
  {
   "cell_type": "code",
   "execution_count": 1,
   "id": "d34e2c70",
   "metadata": {},
   "outputs": [],
   "source": [
    "import numpy as np\n",
    "import pandas as pd"
   ]
  },
  {
   "cell_type": "code",
   "execution_count": 2,
   "id": "1d194fd0",
   "metadata": {},
   "outputs": [],
   "source": [
    "df=pd.read_csv(\"spam.csv\")"
   ]
  },
  {
   "cell_type": "code",
   "execution_count": 3,
   "id": "a87ed8c8",
   "metadata": {},
   "outputs": [
    {
     "data": {
      "text/html": [
       "<div>\n",
       "<style scoped>\n",
       "    .dataframe tbody tr th:only-of-type {\n",
       "        vertical-align: middle;\n",
       "    }\n",
       "\n",
       "    .dataframe tbody tr th {\n",
       "        vertical-align: top;\n",
       "    }\n",
       "\n",
       "    .dataframe thead th {\n",
       "        text-align: right;\n",
       "    }\n",
       "</style>\n",
       "<table border=\"1\" class=\"dataframe\">\n",
       "  <thead>\n",
       "    <tr style=\"text-align: right;\">\n",
       "      <th></th>\n",
       "      <th>Category</th>\n",
       "      <th>Message</th>\n",
       "    </tr>\n",
       "  </thead>\n",
       "  <tbody>\n",
       "    <tr>\n",
       "      <th>0</th>\n",
       "      <td>ham</td>\n",
       "      <td>Go until jurong point, crazy.. Available only ...</td>\n",
       "    </tr>\n",
       "    <tr>\n",
       "      <th>1</th>\n",
       "      <td>ham</td>\n",
       "      <td>Ok lar... Joking wif u oni...</td>\n",
       "    </tr>\n",
       "    <tr>\n",
       "      <th>2</th>\n",
       "      <td>spam</td>\n",
       "      <td>Free entry in 2 a wkly comp to win FA Cup fina...</td>\n",
       "    </tr>\n",
       "    <tr>\n",
       "      <th>3</th>\n",
       "      <td>ham</td>\n",
       "      <td>U dun say so early hor... U c already then say...</td>\n",
       "    </tr>\n",
       "    <tr>\n",
       "      <th>4</th>\n",
       "      <td>ham</td>\n",
       "      <td>Nah I don't think he goes to usf, he lives aro...</td>\n",
       "    </tr>\n",
       "  </tbody>\n",
       "</table>\n",
       "</div>"
      ],
      "text/plain": [
       "  Category                                            Message\n",
       "0      ham  Go until jurong point, crazy.. Available only ...\n",
       "1      ham                      Ok lar... Joking wif u oni...\n",
       "2     spam  Free entry in 2 a wkly comp to win FA Cup fina...\n",
       "3      ham  U dun say so early hor... U c already then say...\n",
       "4      ham  Nah I don't think he goes to usf, he lives aro..."
      ]
     },
     "execution_count": 3,
     "metadata": {},
     "output_type": "execute_result"
    }
   ],
   "source": [
    "df.head()"
   ]
  },
  {
   "cell_type": "code",
   "execution_count": 4,
   "id": "37c01ff8",
   "metadata": {},
   "outputs": [
    {
     "data": {
      "text/plain": [
       "ham     4825\n",
       "spam     747\n",
       "Name: Category, dtype: int64"
      ]
     },
     "execution_count": 4,
     "metadata": {},
     "output_type": "execute_result"
    }
   ],
   "source": [
    "df.Category.value_counts()\n",
    "# in pandas we can use value_counts() method for counting values of all features present in particular columns"
   ]
  },
  {
   "cell_type": "code",
   "execution_count": 5,
   "id": "d5bb46da",
   "metadata": {},
   "outputs": [],
   "source": [
    "df['spam']=df['Category'].apply(lambda x: 1 if x=='spam' else 0)"
   ]
  },
  {
   "cell_type": "code",
   "execution_count": 6,
   "id": "309dc75c",
   "metadata": {},
   "outputs": [
    {
     "data": {
      "text/html": [
       "<div>\n",
       "<style scoped>\n",
       "    .dataframe tbody tr th:only-of-type {\n",
       "        vertical-align: middle;\n",
       "    }\n",
       "\n",
       "    .dataframe tbody tr th {\n",
       "        vertical-align: top;\n",
       "    }\n",
       "\n",
       "    .dataframe thead th {\n",
       "        text-align: right;\n",
       "    }\n",
       "</style>\n",
       "<table border=\"1\" class=\"dataframe\">\n",
       "  <thead>\n",
       "    <tr style=\"text-align: right;\">\n",
       "      <th></th>\n",
       "      <th>Category</th>\n",
       "      <th>Message</th>\n",
       "      <th>spam</th>\n",
       "    </tr>\n",
       "  </thead>\n",
       "  <tbody>\n",
       "    <tr>\n",
       "      <th>0</th>\n",
       "      <td>ham</td>\n",
       "      <td>Go until jurong point, crazy.. Available only ...</td>\n",
       "      <td>0</td>\n",
       "    </tr>\n",
       "    <tr>\n",
       "      <th>1</th>\n",
       "      <td>ham</td>\n",
       "      <td>Ok lar... Joking wif u oni...</td>\n",
       "      <td>0</td>\n",
       "    </tr>\n",
       "    <tr>\n",
       "      <th>2</th>\n",
       "      <td>spam</td>\n",
       "      <td>Free entry in 2 a wkly comp to win FA Cup fina...</td>\n",
       "      <td>1</td>\n",
       "    </tr>\n",
       "    <tr>\n",
       "      <th>3</th>\n",
       "      <td>ham</td>\n",
       "      <td>U dun say so early hor... U c already then say...</td>\n",
       "      <td>0</td>\n",
       "    </tr>\n",
       "    <tr>\n",
       "      <th>4</th>\n",
       "      <td>ham</td>\n",
       "      <td>Nah I don't think he goes to usf, he lives aro...</td>\n",
       "      <td>0</td>\n",
       "    </tr>\n",
       "  </tbody>\n",
       "</table>\n",
       "</div>"
      ],
      "text/plain": [
       "  Category                                            Message  spam\n",
       "0      ham  Go until jurong point, crazy.. Available only ...     0\n",
       "1      ham                      Ok lar... Joking wif u oni...     0\n",
       "2     spam  Free entry in 2 a wkly comp to win FA Cup fina...     1\n",
       "3      ham  U dun say so early hor... U c already then say...     0\n",
       "4      ham  Nah I don't think he goes to usf, he lives aro...     0"
      ]
     },
     "execution_count": 6,
     "metadata": {},
     "output_type": "execute_result"
    }
   ],
   "source": [
    "df.head()"
   ]
  },
  {
   "cell_type": "code",
   "execution_count": 7,
   "id": "4a67600c",
   "metadata": {},
   "outputs": [],
   "source": [
    "from sklearn.model_selection import train_test_split\n",
    "X_train,X_test,y_train,y_test = train_test_split(df.Message,df.spam,test_size=0.2)"
   ]
  },
  {
   "cell_type": "code",
   "execution_count": 8,
   "id": "47b6eceb",
   "metadata": {},
   "outputs": [
    {
     "data": {
      "text/plain": [
       "(4457,)"
      ]
     },
     "execution_count": 8,
     "metadata": {},
     "output_type": "execute_result"
    }
   ],
   "source": [
    "X_train.shape"
   ]
  },
  {
   "cell_type": "code",
   "execution_count": 9,
   "id": "3b796aee",
   "metadata": {},
   "outputs": [
    {
     "data": {
      "text/plain": [
       "(1115,)"
      ]
     },
     "execution_count": 9,
     "metadata": {},
     "output_type": "execute_result"
    }
   ],
   "source": [
    "X_test.shape"
   ]
  },
  {
   "cell_type": "code",
   "execution_count": 10,
   "id": "13a9b801",
   "metadata": {},
   "outputs": [
    {
     "data": {
      "text/plain": [
       "pandas.core.series.Series"
      ]
     },
     "execution_count": 10,
     "metadata": {},
     "output_type": "execute_result"
    }
   ],
   "source": [
    "type(X_train) \n",
    "# it is pandas seris "
   ]
  },
  {
   "cell_type": "code",
   "execution_count": 13,
   "id": "f1306aa4",
   "metadata": {},
   "outputs": [
    {
     "data": {
      "text/plain": [
       "'Good Morning plz call me sir'"
      ]
     },
     "execution_count": 13,
     "metadata": {},
     "output_type": "execute_result"
    }
   ],
   "source": [
    "X_train[:4][1894]\n",
    "# this is full mail of 1894"
   ]
  },
  {
   "cell_type": "code",
   "execution_count": 14,
   "id": "b715aedf",
   "metadata": {},
   "outputs": [
    {
     "data": {
      "text/plain": [
       "pandas.core.series.Series"
      ]
     },
     "execution_count": 14,
     "metadata": {},
     "output_type": "execute_result"
    }
   ],
   "source": [
    "type(y_train)"
   ]
  },
  {
   "cell_type": "code",
   "execution_count": 15,
   "id": "7920811b",
   "metadata": {},
   "outputs": [
    {
     "data": {
      "text/plain": [
       "1894    0\n",
       "2768    0\n",
       "4963    0\n",
       "5553    0\n",
       "4858    0\n",
       "299     0\n",
       "3477    0\n",
       "4021    0\n",
       "1976    0\n",
       "1708    0\n",
       "Name: spam, dtype: int64"
      ]
     },
     "execution_count": 15,
     "metadata": {},
     "output_type": "execute_result"
    }
   ],
   "source": [
    "y_train[:10]"
   ]
  },
  {
   "cell_type": "code",
   "execution_count": 16,
   "id": "97a026a5",
   "metadata": {},
   "outputs": [],
   "source": [
    "from sklearn.feature_extraction.text import CountVectorizer"
   ]
  },
  {
   "cell_type": "code",
   "execution_count": 17,
   "id": "3d222ffc",
   "metadata": {},
   "outputs": [],
   "source": [
    "v=CountVectorizer()"
   ]
  },
  {
   "cell_type": "code",
   "execution_count": 18,
   "id": "e87c63a0",
   "metadata": {},
   "outputs": [
    {
     "data": {
      "text/plain": [
       "['__annotations__',\n",
       " '__class__',\n",
       " '__delattr__',\n",
       " '__dict__',\n",
       " '__dir__',\n",
       " '__doc__',\n",
       " '__eq__',\n",
       " '__format__',\n",
       " '__ge__',\n",
       " '__getattribute__',\n",
       " '__getstate__',\n",
       " '__gt__',\n",
       " '__hash__',\n",
       " '__init__',\n",
       " '__init_subclass__',\n",
       " '__le__',\n",
       " '__lt__',\n",
       " '__module__',\n",
       " '__ne__',\n",
       " '__new__',\n",
       " '__reduce__',\n",
       " '__reduce_ex__',\n",
       " '__repr__',\n",
       " '__setattr__',\n",
       " '__setstate__',\n",
       " '__sizeof__',\n",
       " '__str__',\n",
       " '__subclasshook__',\n",
       " '__weakref__',\n",
       " '_char_ngrams',\n",
       " '_char_wb_ngrams',\n",
       " '_check_feature_names',\n",
       " '_check_n_features',\n",
       " '_check_stop_words_consistency',\n",
       " '_check_vocabulary',\n",
       " '_count_vocab',\n",
       " '_get_param_names',\n",
       " '_get_tags',\n",
       " '_limit_features',\n",
       " '_more_tags',\n",
       " '_parameter_constraints',\n",
       " '_repr_html_',\n",
       " '_repr_html_inner',\n",
       " '_repr_mimebundle_',\n",
       " '_sort_features',\n",
       " '_validate_data',\n",
       " '_validate_ngram_range',\n",
       " '_validate_params',\n",
       " '_validate_vocabulary',\n",
       " '_warn_for_unused_params',\n",
       " '_white_spaces',\n",
       " '_word_ngrams',\n",
       " 'analyzer',\n",
       " 'binary',\n",
       " 'build_analyzer',\n",
       " 'build_preprocessor',\n",
       " 'build_tokenizer',\n",
       " 'decode',\n",
       " 'decode_error',\n",
       " 'dtype',\n",
       " 'encoding',\n",
       " 'fit',\n",
       " 'fit_transform',\n",
       " 'get_feature_names_out',\n",
       " 'get_params',\n",
       " 'get_stop_words',\n",
       " 'input',\n",
       " 'inverse_transform',\n",
       " 'lowercase',\n",
       " 'max_df',\n",
       " 'max_features',\n",
       " 'min_df',\n",
       " 'ngram_range',\n",
       " 'preprocessor',\n",
       " 'set_params',\n",
       " 'stop_words',\n",
       " 'strip_accents',\n",
       " 'token_pattern',\n",
       " 'tokenizer',\n",
       " 'transform',\n",
       " 'vocabulary']"
      ]
     },
     "execution_count": 18,
     "metadata": {},
     "output_type": "execute_result"
    }
   ],
   "source": [
    "#we can see different method present in v by using \n",
    "dir(v)"
   ]
  },
  {
   "cell_type": "code",
   "execution_count": 19,
   "id": "29699cd3",
   "metadata": {},
   "outputs": [],
   "source": [
    "X_train_cv=v.fit_transform(X_train.values)\n",
    "#here we are giving .values because it will convert array into numpy array which can be read by machine \n"
   ]
  },
  {
   "cell_type": "code",
   "execution_count": 20,
   "id": "6abe0738",
   "metadata": {},
   "outputs": [
    {
     "data": {
      "text/plain": [
       "<4457x7830 sparse matrix of type '<class 'numpy.int64'>'\n",
       "\twith 59551 stored elements in Compressed Sparse Row format>"
      ]
     },
     "execution_count": 20,
     "metadata": {},
     "output_type": "execute_result"
    }
   ],
   "source": [
    "X_train_cv"
   ]
  },
  {
   "cell_type": "code",
   "execution_count": 21,
   "id": "5ea5a4b4",
   "metadata": {},
   "outputs": [
    {
     "data": {
      "text/plain": [
       "(4457, 7830)"
      ]
     },
     "execution_count": 21,
     "metadata": {},
     "output_type": "execute_result"
    }
   ],
   "source": [
    "X_train_cv.shape\n",
    "# ther are 7770 different words present and total emails are 4457 "
   ]
  },
  {
   "cell_type": "code",
   "execution_count": 22,
   "id": "2bd85675",
   "metadata": {},
   "outputs": [
    {
     "data": {
      "text/plain": [
       "{'good': 3212,\n",
       " 'morning': 4646,\n",
       " 'plz': 5327,\n",
       " 'call': 1627,\n",
       " 'me': 4458,\n",
       " 'sir': 6247,\n",
       " 'wow': 7698,\n",
       " 'impressed': 3684,\n",
       " 'have': 3390,\n",
       " 'funs': 3074,\n",
       " 'shopping': 6174,\n",
       " 'yup': 7814,\n",
       " 'ok': 4988,\n",
       " 'hahaha': 3324,\n",
       " 'use': 7283,\n",
       " 'your': 7796,\n",
       " 'brain': 1497,\n",
       " 'dear': 2216,\n",
       " 'thanks': 6861,\n",
       " 'and': 970,\n",
       " 'or': 5047,\n",
       " 'bomb': 1442,\n",
       " 'date': 2195,\n",
       " 'as': 1098,\n",
       " 'my': 4725,\n",
       " 'phone': 5253,\n",
       " 'wanted': 7448,\n",
       " 'to': 6994,\n",
       " 'say': 5992,\n",
       " 'cant': 1663,\n",
       " 'pick': 5265,\n",
       " 'the': 6872,\n",
       " 'right': 5856,\n",
       " 'now': 4908,\n",
       " 'pls': 5321,\n",
       " 'send': 6075,\n",
       " 'message': 4510,\n",
       " 'can': 1652,\n",
       " 'probably': 5499,\n",
       " 'come': 1933,\n",
       " 'by': 1610,\n",
       " 'everybody': 2698,\n",
       " 'done': 2431,\n",
       " 'around': 1084,\n",
       " 'lt': 4298,\n",
       " 'gt': 3288,\n",
       " 'university': 7226,\n",
       " 'of': 4964,\n",
       " 'southern': 6409,\n",
       " 'california': 1626,\n",
       " 'delhi': 2259,\n",
       " 'chennai': 1794,\n",
       " 'still': 6546,\n",
       " 'silent': 6226,\n",
       " 'was': 7459,\n",
       " 'doing': 2421,\n",
       " 'test': 6840,\n",
       " 'earlier': 2528,\n",
       " 'appreciate': 1043,\n",
       " 'you': 7790,\n",
       " 'will': 7595,\n",
       " 'tomorrow': 7021,\n",
       " 'already': 933,\n",
       " 'one': 5011,\n",
       " 'guy': 3311,\n",
       " 'loving': 4284,\n",
       " 'am': 945,\n",
       " 'only': 5017,\n",
       " 'who': 7572,\n",
       " 'doesn': 2411,\n",
       " 'stalk': 6497,\n",
       " 'profiles': 5514,\n",
       " 'god': 3193,\n",
       " 'love': 4275,\n",
       " 'has': 3375,\n",
       " 'no': 4862,\n",
       " 'limit': 4169,\n",
       " 'grace': 3241,\n",
       " 'measure': 4468,\n",
       " 'power': 5415,\n",
       " 'boundaries': 1470,\n",
       " 'may': 4449,\n",
       " 'endless': 2614,\n",
       " 'blessings': 1412,\n",
       " 'always': 943,\n",
       " 'in': 3690,\n",
       " 'ur': 7264,\n",
       " 'life': 4151,\n",
       " 'gud': 3293,\n",
       " 'ni8': 4832,\n",
       " 'students': 6602,\n",
       " 'solved': 6358,\n",
       " 'this': 6914,\n",
       " 'cat': 1707,\n",
       " 'question': 5602,\n",
       " 'xam': 7729,\n",
       " 'then': 6885,\n",
       " 'tell': 6817,\n",
       " 'answer': 993,\n",
       " 'if': 3648,\n",
       " 'brilliant': 1528,\n",
       " '1thing': 340,\n",
       " 'got': 3227,\n",
       " 'answr': 998,\n",
       " '22': 361,\n",
       " 'days': 2204,\n",
       " 'kick': 3980,\n",
       " 'off': 4966,\n",
       " 'for': 2969,\n",
       " 'euro2004': 2682,\n",
       " 'be': 1288,\n",
       " 'kept': 3968,\n",
       " 'up': 7247,\n",
       " 'with': 7625,\n",
       " 'latest': 4082,\n",
       " 'news': 4827,\n",
       " 'results': 5830,\n",
       " 'daily': 2171,\n",
       " 'removed': 5773,\n",
       " 'get': 3141,\n",
       " 'txt': 7161,\n",
       " 'stop': 6558,\n",
       " '83222': 667,\n",
       " 'anything': 1013,\n",
       " 'is': 3798,\n",
       " 'valuable': 7313,\n",
       " 'situations': 6257,\n",
       " 'first': 2900,\n",
       " 'before': 1316,\n",
       " 'getting': 3149,\n",
       " 'it': 3810,\n",
       " 'second': 6036,\n",
       " 'after': 862,\n",
       " 'loosing': 4251,\n",
       " 'finally': 2877,\n",
       " 'match': 4428,\n",
       " 'heading': 3404,\n",
       " 'towards': 7063,\n",
       " 'draw': 2466,\n",
       " 'prediction': 5444,\n",
       " 'don': 2429,\n",
       " 'give': 3169,\n",
       " 'flying': 2944,\n",
       " 'monkeys': 4630,\n",
       " 'wot': 7690,\n",
       " 'they': 6898,\n",
       " 'think': 6905,\n",
       " 'certainly': 1737,\n",
       " 'mind': 4542,\n",
       " 'any': 1004,\n",
       " 'friend': 3034,\n",
       " 'mine': 4545,\n",
       " 'all': 921,\n",
       " 'that': 6869,\n",
       " 'reach': 5663,\n",
       " 'home': 3516,\n",
       " 'minutes': 4558,\n",
       " 'private': 5493,\n",
       " '2003': 349,\n",
       " 'account': 794,\n",
       " 'statement': 6519,\n",
       " 'fone': 2957,\n",
       " 'shows': 6198,\n",
       " '800': 640,\n",
       " 'un': 7198,\n",
       " 'redeemed': 5720,\n",
       " 'points': 5352,\n",
       " '08715203656': 121,\n",
       " 'identifier': 3641,\n",
       " 'code': 1906,\n",
       " '42049': 488,\n",
       " 'expires': 2747,\n",
       " '26': 373,\n",
       " '10': 257,\n",
       " '04': 15,\n",
       " 'oh': 4983,\n",
       " 'yeah': 7763,\n",
       " 'clearly': 1866,\n",
       " 'fault': 2814,\n",
       " 'are': 1065,\n",
       " 'though': 6924,\n",
       " 'space': 6413,\n",
       " 'want': 7446,\n",
       " 'need': 4790,\n",
       " 'really': 5682,\n",
       " 'starting': 6512,\n",
       " 'become': 1301,\n",
       " 'an': 966,\n",
       " 'issue': 3807,\n",
       " 'going': 3199,\n",
       " 'suggest': 6647,\n",
       " 'setting': 6102,\n",
       " 'definite': 2246,\n",
       " 'move': 4662,\n",
       " 'out': 5083,\n",
       " 'there': 6890,\n",
       " 'greece': 3265,\n",
       " 'but': 1596,\n",
       " 'maybe': 4451,\n",
       " 'ready': 5672,\n",
       " 'should': 6185,\n",
       " 'do': 2398,\n",
       " 'jordan': 3907,\n",
       " 'voted': 7397,\n",
       " 'last': 4076,\n",
       " 'nite': 4855,\n",
       " 've': 7329,\n",
       " 'been': 1310,\n",
       " 'barred': 1251,\n",
       " 'from': 3046,\n",
       " 'stores': 6568,\n",
       " 'twat': 7150,\n",
       " 'orange': 5050,\n",
       " 'dungerees': 2511,\n",
       " 'came': 1647,\n",
       " 'asked': 1109,\n",
       " 'decking': 2231,\n",
       " 'so': 6344,\n",
       " 'punch': 5566,\n",
       " 'on': 5005,\n",
       " 'hen': 3444,\n",
       " 'night': 4842,\n",
       " 'swing': 6725,\n",
       " 'being': 1327,\n",
       " 'contacted': 2002,\n",
       " 'our': 5081,\n",
       " 'dating': 2198,\n",
       " 'service': 6097,\n",
       " 'someone': 6362,\n",
       " 'know': 4012,\n",
       " 'find': 2880,\n",
       " 'land': 4055,\n",
       " 'line': 4173,\n",
       " '09050000928': 165,\n",
       " 'pobox45w2tg150p': 5339,\n",
       " 'freephone': 3019,\n",
       " '0800': 48,\n",
       " '542': 560,\n",
       " '0578': 19,\n",
       " 'at': 1131,\n",
       " 'funeral': 3070,\n",
       " 'audrey': 1156,\n",
       " 'dad': 2168,\n",
       " 'why': 7580,\n",
       " 'early': 2530,\n",
       " 'win': 7598,\n",
       " 'newest': 4824,\n",
       " 'harry': 3374,\n",
       " 'potter': 5408,\n",
       " 'order': 5054,\n",
       " 'phoenix': 5252,\n",
       " 'book': 1448,\n",
       " 'reply': 5790,\n",
       " 'questions': 5604,\n",
       " 'chance': 1747,\n",
       " 'among': 955,\n",
       " 'readers': 5669,\n",
       " 'collecting': 1920,\n",
       " 'laptop': 4068,\n",
       " 'configure': 1981,\n",
       " 'da': 2164,\n",
       " 'settings': 6103,\n",
       " 'izzit': 3828,\n",
       " 'aight': 890,\n",
       " 'just': 3931,\n",
       " 'plan': 5298,\n",
       " 'later': 4081,\n",
       " 'tonight': 7029,\n",
       " 'he': 3400,\n",
       " 'said': 5945,\n",
       " 'had': 3320,\n",
       " 'giggle': 3159,\n",
       " 'when': 7556,\n",
       " 'saw': 5991,\n",
       " 'again': 869,\n",
       " 'would': 7694,\n",
       " 'possibly': 5397,\n",
       " 'person2die': 5230,\n",
       " 'nvq': 4934,\n",
       " 'how': 3566,\n",
       " 'much': 4694,\n",
       " 'could': 2053,\n",
       " 'sort': 6393,\n",
       " 'acc': 781,\n",
       " 'bank': 1236,\n",
       " 'natwest': 4769,\n",
       " 'confirm': 1982,\n",
       " 'sent': 6085,\n",
       " 'person': 5229,\n",
       " 'please': 5313,\n",
       " '08712402578': 103,\n",
       " 'immediately': 3673,\n",
       " 'urgent': 7268,\n",
       " 'waiting': 7427,\n",
       " 'lol': 4232,\n",
       " 'll': 4206,\n",
       " 'snatch': 6336,\n",
       " 'her': 3448,\n",
       " 'purse': 5577,\n",
       " 'too': 7034,\n",
       " 'thanx': 6866,\n",
       " 'take': 6756,\n",
       " 'care': 1676,\n",
       " 'did': 2325,\n",
       " 'see': 6049,\n",
       " 'where': 7560,\n",
       " 'wish': 7618,\n",
       " 'happy': 3365,\n",
       " 'new': 4822,\n",
       " 'year': 7764,\n",
       " 'talk': 6764,\n",
       " 'about': 768,\n",
       " 'some': 6359,\n",
       " 'legal': 4122,\n",
       " 'advice': 845,\n",
       " 'gary': 3104,\n",
       " 'split': 6457,\n",
       " 'make': 4375,\n",
       " 'trip': 7106,\n",
       " 'ptbo': 5557,\n",
       " 'hope': 3533,\n",
       " 'everything': 2705,\n",
       " 'babe': 1203,\n",
       " 'ya': 7749,\n",
       " 'many': 4399,\n",
       " 'since': 6236,\n",
       " 'baaaaabe': 1202,\n",
       " 'misss': 4571,\n",
       " 'youuuuu': 7801,\n",
       " 'go': 3187,\n",
       " 'teach': 6796,\n",
       " 'class': 1854,\n",
       " 'reached': 5664,\n",
       " 'afternoon': 864,\n",
       " 'boytoy': 1494,\n",
       " 'feeling': 2831,\n",
       " 'today': 7001,\n",
       " 'better': 1351,\n",
       " 'boy': 1490,\n",
       " 'obedient': 4946,\n",
       " 'slave': 6280,\n",
       " 'queen': 5599,\n",
       " 'step': 6535,\n",
       " 'outta': 5095,\n",
       " 'way': 7481,\n",
       " 'congrats': 1988,\n",
       " 'nope': 4881,\n",
       " 'forgot': 2981,\n",
       " 'show': 6190,\n",
       " 'next': 4831,\n",
       " 'week': 7510,\n",
       " 'old': 4998,\n",
       " 'man': 4385,\n",
       " 'build': 1573,\n",
       " 'snowman': 6342,\n",
       " 'snow': 6340,\n",
       " 'angels': 976,\n",
       " 'snowball': 6341,\n",
       " 'fights': 2861,\n",
       " 'yes': 7774,\n",
       " 'swimming': 6723,\n",
       " 'dint': 2353,\n",
       " 'slept': 6288,\n",
       " 'checked': 1782,\n",
       " 'drop': 2484,\n",
       " 'stuff': 6608,\n",
       " 'awesome': 1189,\n",
       " 'cute': 2153,\n",
       " 'smiled': 6320,\n",
       " 'amp': 959,\n",
       " 'answered': 994,\n",
       " 'she': 6140,\n",
       " 'fine': 2883,\n",
       " 'gudnite': 3294,\n",
       " 'gentle': 3131,\n",
       " 'baby': 1206,\n",
       " 'soon': 6383,\n",
       " 'taking': 6761,\n",
       " 'inches': 3694,\n",
       " 'deep': 2237,\n",
       " 'inside': 3742,\n",
       " 'tight': 6956,\n",
       " 'pussy': 5581,\n",
       " 'bad': 1212,\n",
       " 'avoid': 1181,\n",
       " 'like': 4161,\n",
       " 'lemme': 4127,\n",
       " 'whenever': 7557,\n",
       " 're': 5662,\n",
       " 'selected': 6063,\n",
       " 'stay': 6522,\n",
       " '250': 369,\n",
       " 'top': 7043,\n",
       " 'british': 1536,\n",
       " 'hotels': 3554,\n",
       " 'nothing': 4899,\n",
       " 'holiday': 3511,\n",
       " 'worth': 7688,\n",
       " '350': 445,\n",
       " 'claim': 1848,\n",
       " 'london': 4236,\n",
       " '02072069400': 10,\n",
       " 'bx': 1607,\n",
       " '526': 557,\n",
       " 'sw73ss': 6705,\n",
       " 'place': 5293,\n",
       " 'thing': 6903,\n",
       " 'apes': 1022,\n",
       " 'fight': 2858,\n",
       " 'death': 2220,\n",
       " 'keep': 3962,\n",
       " 'something': 6368,\n",
       " 'minute': 4557,\n",
       " 'let': 4137,\n",
       " 'thats': 6871,\n",
       " 'prob': 5498,\n",
       " 'email': 2598,\n",
       " 'little': 4197,\n",
       " 'darlings': 2189,\n",
       " 'far': 2801,\n",
       " 'coffee': 1907,\n",
       " 'run': 5921,\n",
       " 'tomo': 7019,\n",
       " 'believe': 1328,\n",
       " 'time': 6961,\n",
       " 'put': 5582,\n",
       " 'sign': 6221,\n",
       " 'choose': 1831,\n",
       " 'number': 4923,\n",
       " 'pin': 5283,\n",
       " 'hey': 3458,\n",
       " 'veggie': 7332,\n",
       " 'pizza': 5291,\n",
       " 'dare': 2184,\n",
       " 'ask': 1107,\n",
       " 'luck': 4303,\n",
       " 'sorting': 6396,\n",
       " 'car': 1671,\n",
       " 'mila': 4531,\n",
       " 'age23': 874,\n",
       " 'blonde': 1420,\n",
       " 'uk': 7188,\n",
       " 'look': 4242,\n",
       " 'sex': 6110,\n",
       " 'guys': 3312,\n",
       " 'fun': 3065,\n",
       " 'text': 6846,\n",
       " 'mtalk': 4685,\n",
       " '69866': 598,\n",
       " '18': 322,\n",
       " '30pp': 433,\n",
       " '1st': 337,\n",
       " '5free': 562,\n",
       " '50': 540,\n",
       " 'increments': 3707,\n",
       " 'help08718728876': 3438,\n",
       " 'try': 7123,\n",
       " 'months': 4638,\n",
       " 'ha': 3317,\n",
       " 'joking': 3901,\n",
       " 'here': 3449,\n",
       " 'discount': 2372,\n",
       " 'rp176781': 5901,\n",
       " 'further': 3076,\n",
       " 'messages': 4512,\n",
       " 'www': 7724,\n",
       " 'regalportfolio': 5737,\n",
       " 'co': 1896,\n",
       " 'customer': 2148,\n",
       " 'services': 6098,\n",
       " '08717205546': 130,\n",
       " 'sorry': 6392,\n",
       " 'daddy': 2169,\n",
       " 'fetch': 2842,\n",
       " 'update_now': 7253,\n",
       " '12mths': 294,\n",
       " 'half': 3332,\n",
       " 'price': 5477,\n",
       " 'rental': 5778,\n",
       " '400mins': 478,\n",
       " 'mobileupd8': 4605,\n",
       " '08000839402': 51,\n",
       " 'call2optout': 1629,\n",
       " 'j5q': 3829,\n",
       " '1000': 259,\n",
       " 'girls': 3166,\n",
       " 'local': 4217,\n",
       " 'virgins': 7374,\n",
       " '4fil': 520,\n",
       " 'every': 2696,\n",
       " 'sexual': 6113,\n",
       " 'theirs': 6879,\n",
       " '69911': 602,\n",
       " '50p': 547,\n",
       " 'willing': 7596,\n",
       " 'apps': 1051,\n",
       " 'ride': 5855,\n",
       " 'bike': 1372,\n",
       " 'we': 7486,\n",
       " 'were': 7535,\n",
       " 'outside': 5092,\n",
       " 'hours': 3560,\n",
       " 'called': 1634,\n",
       " 'whole': 7574,\n",
       " 'family': 2792,\n",
       " 'wake': 7428,\n",
       " 'them': 6881,\n",
       " 'cause': 1713,\n",
       " 'started': 6511,\n",
       " 'purity': 5574,\n",
       " 'friendship': 3037,\n",
       " 'between': 1354,\n",
       " 'two': 7159,\n",
       " 'not': 4894,\n",
       " 'smiling': 6323,\n",
       " 'reading': 5671,\n",
       " 'forwarded': 2994,\n",
       " 'its': 3817,\n",
       " 'seeing': 6051,\n",
       " 'name': 4744,\n",
       " 'evng': 2710,\n",
       " 'hai': 3325,\n",
       " 'friends': 3035,\n",
       " 'present': 5460,\n",
       " 'rajitha': 5631,\n",
       " 'raj': 5627,\n",
       " 'ranju': 5644,\n",
       " 'goodo': 3219,\n",
       " 'must': 4716,\n",
       " 'speak': 6422,\n",
       " 'friday': 3030,\n",
       " 'egg': 2570,\n",
       " 'potato': 5406,\n",
       " 'ratio': 5649,\n",
       " 'tortilla': 7051,\n",
       " 'needed': 4791,\n",
       " 'haven': 3392,\n",
       " 'eaten': 2543,\n",
       " 'day': 2203,\n",
       " 'sitting': 6255,\n",
       " 'staring': 6507,\n",
       " 'juicy': 3920,\n",
       " 'eat': 2542,\n",
       " 'these': 6892,\n",
       " 'meds': 4475,\n",
       " 'ruining': 5915,\n",
       " 'lovely': 4278,\n",
       " 'smile': 6319,\n",
       " 'knowing': 4013,\n",
       " 'great': 3261,\n",
       " 'hurry': 3605,\n",
       " 'big': 1369,\n",
       " 'butt': 1597,\n",
       " 'hang': 3348,\n",
       " 'caller': 1635,\n",
       " 'food': 2960,\n",
       " 'starving': 6515,\n",
       " 'what': 7549,\n",
       " 'cooked': 2025,\n",
       " 'uploaded': 7257,\n",
       " 'facebook': 2770,\n",
       " 'wewa': 7547,\n",
       " '130': 296,\n",
       " 'iriver': 3790,\n",
       " '255': 371,\n",
       " '128': 291,\n",
       " 'mb': 4452,\n",
       " 'rumour': 5920,\n",
       " 'buy': 1600,\n",
       " 'apartment': 1021,\n",
       " 'normally': 4887,\n",
       " 'hot': 3552,\n",
       " 'mail': 4368,\n",
       " 'com': 1928,\n",
       " 'payasam': 5191,\n",
       " 'rinu': 5865,\n",
       " 'brings': 1533,\n",
       " 'searching': 6032,\n",
       " 'job': 3887,\n",
       " 'few': 2845,\n",
       " 'potential': 5407,\n",
       " 'talent': 6762,\n",
       " 'long': 4239,\n",
       " 'screamed': 6021,\n",
       " 'princess': 5484,\n",
       " 'post': 5398,\n",
       " 'l8r': 4033,\n",
       " 'wait': 7424,\n",
       " 'park': 5154,\n",
       " 'free': 3012,\n",
       " 'bluetooth': 1427,\n",
       " 'headset': 3406,\n",
       " 'simply': 6233,\n",
       " 'back': 1211,\n",
       " 'adp': 835,\n",
       " 'haf': 3322,\n",
       " 'msn': 4683,\n",
       " 'yijue': 7782,\n",
       " 'hotmail': 3555,\n",
       " 'change': 1749,\n",
       " 'fb': 2820,\n",
       " 'jaykwon': 3855,\n",
       " 'thuglyfe': 6945,\n",
       " 'falconerf': 2785,\n",
       " 'girl': 3163,\n",
       " 'does': 2409,\n",
       " 'bed': 1304,\n",
       " 'recovery': 5716,\n",
       " 'id': 3635,\n",
       " 'rather': 5648,\n",
       " 'pass': 5169,\n",
       " 'while': 7567,\n",
       " 'having': 3396,\n",
       " 'cooped': 2029,\n",
       " 'evry': 2714,\n",
       " 'emotion': 2606,\n",
       " 'dsn': 2497,\n",
       " 'hav': 3386,\n",
       " 'words': 7671,\n",
       " 'prayrs': 5439,\n",
       " 'world': 7679,\n",
       " 'wit': 7624,\n",
       " 'othrwise': 5077,\n",
       " 'even': 2689,\n",
       " 'tear': 6801,\n",
       " 'lik': 4160,\n",
       " 'specialisation': 6426,\n",
       " 'work': 7672,\n",
       " 'labor': 4040,\n",
       " 'month': 4635,\n",
       " 'sha': 6119,\n",
       " 'cos': 2042,\n",
       " 'shakara': 6124,\n",
       " 'beggar': 1319,\n",
       " 'representative': 5795,\n",
       " '0808': 60,\n",
       " '145': 301,\n",
       " '4742': 508,\n",
       " '9am': 744,\n",
       " '11pm': 282,\n",
       " 'won': 7656,\n",
       " 'guaranteed': 3291,\n",
       " 'cash': 1698,\n",
       " '5000': 542,\n",
       " 'prize': 5495,\n",
       " 'tessy': 6839,\n",
       " 'favor': 2817,\n",
       " 'convey': 2019,\n",
       " 'birthday': 1388,\n",
       " 'wishes': 7619,\n",
       " 'nimya': 4850,\n",
       " 'dnt': 2397,\n",
       " 'forget': 2977,\n",
       " 'shijas': 6153,\n",
       " 'rofl': 5880,\n",
       " 'true': 7116,\n",
       " 'sleepwell': 6286,\n",
       " 'okay': 4989,\n",
       " 'over': 5098,\n",
       " 'best': 1345,\n",
       " 'dont': 2433,\n",
       " 'gimme': 3161,\n",
       " 'lip': 4186,\n",
       " 'caveboy': 1716,\n",
       " 'ringtone': 5863,\n",
       " 'sub': 6618,\n",
       " 'weekly': 7514,\n",
       " 'subpoly': 6621,\n",
       " '81618': 656,\n",
       " 'per': 5217,\n",
       " 'sms': 6330,\n",
       " '08718727870': 143,\n",
       " 'asleep': 1113,\n",
       " 'mm': 4587,\n",
       " 'radio': 5618,\n",
       " 'height': 3426,\n",
       " 'shit': 6161,\n",
       " 'situation': 6256,\n",
       " 'throws': 6940,\n",
       " 'luv': 4315,\n",
       " 'letter': 4139,\n",
       " 'gal': 3086,\n",
       " 'falls': 2789,\n",
       " 'brothers': 1546,\n",
       " 'head': 3401,\n",
       " 'whos': 7577,\n",
       " 'gay': 3111,\n",
       " 'hip': 3477,\n",
       " 'hop': 3532,\n",
       " 'open': 5029,\n",
       " 'haha': 3323,\n",
       " 'thinking': 6908,\n",
       " 'jazz': 3857,\n",
       " 'zoom': 7824,\n",
       " 'cine': 1843,\n",
       " 'actually': 816,\n",
       " 'leh': 4124,\n",
       " 'kb': 3959,\n",
       " 'lesson': 4135,\n",
       " 'times': 6962,\n",
       " 'us': 7279,\n",
       " 'hypertension': 3619,\n",
       " 'evening': 2690,\n",
       " 'miss': 4566,\n",
       " 'fr': 3001,\n",
       " 'china': 1819,\n",
       " 'noisy': 4870,\n",
       " 'means': 4465,\n",
       " 'door': 2440,\n",
       " 'problem': 5500,\n",
       " 'walk': 7431,\n",
       " 'julianaland': 3923,\n",
       " 'oblivious': 4952,\n",
       " 'same': 5960,\n",
       " 'things': 6904,\n",
       " 'constantly': 2000,\n",
       " 'ear': 2527,\n",
       " 'other': 5073,\n",
       " 'whatever': 7550,\n",
       " 'upset': 7260,\n",
       " 'listen': 4188,\n",
       " 'surprised': 6696,\n",
       " 'mad': 4349,\n",
       " 'treat': 7097,\n",
       " 'pending': 5213,\n",
       " 'once': 5009,\n",
       " 'thru': 6941,\n",
       " 'respect': 5813,\n",
       " 'mother': 4653,\n",
       " 'check': 1780,\n",
       " 'mails': 4371,\n",
       " 'late': 4078,\n",
       " 'lot': 4261,\n",
       " 'making': 4379,\n",
       " 'truly': 7119,\n",
       " 'memorable': 4494,\n",
       " 'both': 1465,\n",
       " 'hour': 3558,\n",
       " 'longer': 4240,\n",
       " 'syria': 6737,\n",
       " 'than': 6858,\n",
       " 'canada': 1653,\n",
       " 'eh': 2573,\n",
       " 'more': 4642,\n",
       " 'extra': 2759,\n",
       " 'grins': 3272,\n",
       " 'mmmmm': 4590,\n",
       " 'sooooo': 6387,\n",
       " 'mmmm': 4589,\n",
       " 'fuck': 3053,\n",
       " 'lion': 4182,\n",
       " 'devouring': 2311,\n",
       " 'kiss': 3999,\n",
       " 'across': 804,\n",
       " 'sea': 6030,\n",
       " 'google': 3222,\n",
       " 'maps': 4401,\n",
       " 'dorm': 2442,\n",
       " 'coveragd': 2069,\n",
       " 'area': 1066,\n",
       " 'urgnt': 7271,\n",
       " 'vasai': 7323,\n",
       " 'clock': 1872,\n",
       " 'horrible': 3544,\n",
       " 'knew': 4009,\n",
       " 'dat': 2193,\n",
       " 'wif': 7587,\n",
       " 'him': 3473,\n",
       " 'yest': 7775,\n",
       " 'drug': 2489,\n",
       " 'able': 766,\n",
       " 'th': 6857,\n",
       " 'gopalettan': 3223,\n",
       " 'planning': 5302,\n",
       " 'small': 6307,\n",
       " 'gift': 3156,\n",
       " 'those': 6922,\n",
       " 'participate': 5159,\n",
       " 'welcome': 7525,\n",
       " 'contact': 2001,\n",
       " 'admin': 829,\n",
       " 'team': 6800,\n",
       " 'details': 2301,\n",
       " 'ever': 2695,\n",
       " 'word': 7670,\n",
       " 'bus': 1589,\n",
       " 'inform': 3725,\n",
       " 'slow': 6300,\n",
       " 'using': 7291,\n",
       " 'biola': 1381,\n",
       " 'fne': 2947,\n",
       " '08715205273': 125,\n",
       " 'well': 7527,\n",
       " 'general': 3126,\n",
       " 'oz': 5112,\n",
       " 'headache': 3402,\n",
       " 'trying': 7124,\n",
       " 'figure': 2862,\n",
       " 'trust': 7120,\n",
       " 'math': 4433,\n",
       " 'promise': 5524,\n",
       " 'nt': 4915,\n",
       " 'seriously': 6095,\n",
       " 'told': 7010,\n",
       " 'happen': 3355,\n",
       " 'college': 1923,\n",
       " 'atten': 1144,\n",
       " 'hello': 3432,\n",
       " 'peach': 5204,\n",
       " 'cake': 1619,\n",
       " 'tasts': 6781,\n",
       " 'lush': 4313,\n",
       " 'help': 3435,\n",
       " 'propose': 5537,\n",
       " 'pub': 5559,\n",
       " 'womdarfull': 7654,\n",
       " 'actor': 814,\n",
       " 'damn': 2173,\n",
       " 'poor': 5373,\n",
       " 'zac': 7816,\n",
       " 'stand': 6501,\n",
       " 'into': 3765,\n",
       " 'brought': 1547,\n",
       " 'sun': 6663,\n",
       " 'shiny': 6156,\n",
       " 'down': 2455,\n",
       " 'warming': 7454,\n",
       " 'heart': 3414,\n",
       " 'putting': 5585,\n",
       " 'constant': 1999,\n",
       " 'face': 2769,\n",
       " 'feel': 2829,\n",
       " 'loved': 4276,\n",
       " 'cared': 1678,\n",
       " 'contract': 2012,\n",
       " 'mobile': 4601,\n",
       " '11': 272,\n",
       " 'mnths': 4596,\n",
       " 'motorola': 4657,\n",
       " 'nokia': 4872,\n",
       " 'etc': 2677,\n",
       " 'double': 2448,\n",
       " 'mins': 4554,\n",
       " 'tariffs': 6778,\n",
       " 'callback': 1630,\n",
       " 'remove': 5772,\n",
       " 'records': 5714,\n",
       " 'earth': 2534,\n",
       " 'rays': 5654,\n",
       " 'cloud': 1881,\n",
       " 'river': 5870,\n",
       " 'rain': 5623,\n",
       " 'meet': 4477,\n",
       " 'msg': 4676,\n",
       " 'cool': 2028,\n",
       " 'gonna': 3210,\n",
       " 'comes': 1935,\n",
       " 'bak': 1222,\n",
       " 'coming': 1939,\n",
       " 't4get2text': 6741,\n",
       " 'hr': 3574,\n",
       " 'another': 990,\n",
       " 'audition': 1155,\n",
       " 'wednesday': 7506,\n",
       " 'might': 4529,\n",
       " 'drive': 2478,\n",
       " 'prolly': 5521,\n",
       " 'wnevr': 7646,\n",
       " 'wana': 7443,\n",
       " 'fal': 2784,\n",
       " 'vth': 7402,\n",
       " 'books': 1452,\n",
       " 'fals': 2790,\n",
       " 'yen': 7770,\n",
       " 'madodu': 4354,\n",
       " 'nav': 4772,\n",
       " 'pretsorginta': 5469,\n",
       " 'nammanna': 4749,\n",
       " 'pretsovru': 5470,\n",
       " 'important': 3679,\n",
       " 'alwa': 942,\n",
       " 'eveb': 2688,\n",
       " 'which': 7566,\n",
       " 'sth': 6541,\n",
       " 'specs': 6431,\n",
       " 'membership': 4493,\n",
       " 'px3748': 5588,\n",
       " 'emailed': 2599,\n",
       " 'yifeng': 7781,\n",
       " 'part': 5158,\n",
       " 'oredi': 5057,\n",
       " 'movie': 4665,\n",
       " 'juz': 3934,\n",
       " 'decision': 2228,\n",
       " 'mah': 4365,\n",
       " 'watch': 7466,\n",
       " 'lar': 4069,\n",
       " 'tot': 7055,\n",
       " 'interested': 3756,\n",
       " 'virtual': 7375,\n",
       " 'hug': 3584,\n",
       " 'restrict': 5826,\n",
       " 'eating': 2545,\n",
       " 'anythin': 1012,\n",
       " 'likes': 4164,\n",
       " 'guess': 3296,\n",
       " 'excuse': 2727,\n",
       " 'meanwhile': 4467,\n",
       " 'project': 5519,\n",
       " 'twins': 7157,\n",
       " 'comin': 1938,\n",
       " 'im': 3665,\n",
       " 'gloucesterroad': 3180,\n",
       " 'uup': 7298,\n",
       " 'finish': 2886,\n",
       " 'yar': 7756,\n",
       " 'saying': 5994,\n",
       " 'mushy': 4712,\n",
       " 'embarrassed': 2601,\n",
       " 'missing': 4569,\n",
       " 'sender': 6076,\n",
       " 'via': 7347,\n",
       " 'fullonsms': 3064,\n",
       " 'possible': 5396,\n",
       " 'fancy': 2796,\n",
       " 'shag': 6122,\n",
       " 'sextextuk': 6112,\n",
       " 'xxuk': 7739,\n",
       " 'suzy': 6703,\n",
       " '69876': 599,\n",
       " 'txts': 7169,\n",
       " 'cost': 2044,\n",
       " 'tncs': 6993,\n",
       " 'website': 7501,\n",
       " 'bloody': 1422,\n",
       " 'hell': 3430,\n",
       " 'surname': 6694,\n",
       " 'mr': 4671,\n",
       " 'ill': 3661,\n",
       " 'clue': 1888,\n",
       " 'spanish': 6417,\n",
       " 'begins': 1322,\n",
       " 'min': 4539,\n",
       " 'yo': 7785,\n",
       " 'howz': 3571,\n",
       " 'never': 4818,\n",
       " 'rang': 5641,\n",
       " 'india': 3713,\n",
       " 'tc': 6793,\n",
       " 'practice': 5426,\n",
       " 'subscribed': 6625,\n",
       " 'content': 2005,\n",
       " 'ten': 6826,\n",
       " 'until': 7245,\n",
       " '83435': 673,\n",
       " 'helpline': 3441,\n",
       " '08706091795': 85,\n",
       " 'thought': 6925,\n",
       " 'king': 3996,\n",
       " 'hill': 3470,\n",
       " 'hasn': 3377,\n",
       " 'pattern': 5185,\n",
       " 'recently': 5704,\n",
       " 'crap': 2080,\n",
       " 'weekends': 7513,\n",
       " 'also': 936,\n",
       " 'knows': 4014,\n",
       " 'lunch': 4310,\n",
       " 'menu': 4503,\n",
       " 'ladies': 4045,\n",
       " 'genus': 3135,\n",
       " 'elaine': 2584,\n",
       " 'meeting': 4479,\n",
       " 'puts': 5583,\n",
       " 'perspective': 5235,\n",
       " 'happens': 3360,\n",
       " 'each': 2525,\n",
       " 'gives': 3171,\n",
       " 'reasons': 5688,\n",
       " 'thank': 6860,\n",
       " 'copy': 2034,\n",
       " 'report': 5793,\n",
       " 'stock': 6548,\n",
       " 'dubsack': 2501,\n",
       " 'glad': 3173,\n",
       " 'talking': 6768,\n",
       " 'fear': 2821,\n",
       " 'fainting': 2779,\n",
       " 'housework': 3564,\n",
       " 'quick': 5605,\n",
       " 'cuppa': 2138,\n",
       " 'lucky': 4304,\n",
       " 'pple': 5419,\n",
       " 'online': 5015,\n",
       " 'mayb': 4450,\n",
       " 'rite': 5869,\n",
       " 'liked': 4162,\n",
       " 'gd': 3118,\n",
       " 'lor': 4253,\n",
       " 'faster': 2806,\n",
       " ...}"
      ]
     },
     "execution_count": 22,
     "metadata": {},
     "output_type": "execute_result"
    }
   ],
   "source": [
    "v.vocabulary_\n",
    "# for getting vocabulary"
   ]
  },
  {
   "cell_type": "code",
   "execution_count": 23,
   "id": "dadb8ae6",
   "metadata": {},
   "outputs": [
    {
     "data": {
      "text/plain": [
       "'fps'"
      ]
     },
     "execution_count": 23,
     "metadata": {},
     "output_type": "execute_result"
    }
   ],
   "source": [
    "v.get_feature_names_out()[3000]\n",
    "#using .get_feature_names_out we can get particular word from vocabulary "
   ]
  },
  {
   "cell_type": "code",
   "execution_count": 24,
   "id": "61775a28",
   "metadata": {},
   "outputs": [
    {
     "data": {
      "text/plain": [
       "array([[0, 0, 0, ..., 0, 0, 0],\n",
       "       [0, 0, 0, ..., 0, 0, 0]], dtype=int64)"
      ]
     },
     "execution_count": 24,
     "metadata": {},
     "output_type": "execute_result"
    }
   ],
   "source": [
    "X_train_cv.toarray()[:2]\n",
    "# we are converting back to array for our reference that we can see the data correctly"
   ]
  },
  {
   "cell_type": "code",
   "execution_count": 25,
   "id": "1bf408b2",
   "metadata": {},
   "outputs": [
    {
     "data": {
      "text/plain": [
       "array([0, 0, 0, ..., 0, 0, 0], dtype=int64)"
      ]
     },
     "execution_count": 25,
     "metadata": {},
     "output_type": "execute_result"
    }
   ],
   "source": [
    "X_train_np=X_train_cv.toarray()\n",
    "X_train_np[0]"
   ]
  },
  {
   "cell_type": "code",
   "execution_count": 26,
   "id": "b3169241",
   "metadata": {},
   "outputs": [
    {
     "data": {
      "text/plain": [
       "(array([1627, 3212, 4458, 4646, 5327, 6247], dtype=int64),)"
      ]
     },
     "execution_count": 26,
     "metadata": {},
     "output_type": "execute_result"
    }
   ],
   "source": [
    "np.where(X_train_np[0]!=0) # np.where is used to find particular data \n",
    "# this is the vector representation of first email in x_train_np where 0 is not there in vector"
   ]
  },
  {
   "cell_type": "code",
   "execution_count": 27,
   "id": "1570205c",
   "metadata": {},
   "outputs": [
    {
     "data": {
      "text/plain": [
       "1894              Good Morning plz call me sir\n",
       "2768    Wow v v impressed. Have funs shopping!\n",
       "4963                                 Yup ok...\n",
       "5553               Hahaha..use your brain dear\n",
       "Name: Message, dtype: object"
      ]
     },
     "execution_count": 27,
     "metadata": {},
     "output_type": "execute_result"
    }
   ],
   "source": [
    "X_train[:4]"
   ]
  },
  {
   "cell_type": "code",
   "execution_count": 29,
   "id": "52f1d6eb",
   "metadata": {},
   "outputs": [
    {
     "data": {
      "text/plain": [
       "'Good Morning plz call me sir'"
      ]
     },
     "execution_count": 29,
     "metadata": {},
     "output_type": "execute_result"
    }
   ],
   "source": [
    "X_train[:4][1894]\n",
    "#this is the first email of X_train "
   ]
  },
  {
   "cell_type": "code",
   "execution_count": 30,
   "id": "638c3f21",
   "metadata": {},
   "outputs": [
    {
     "data": {
      "text/plain": [
       "'body'"
      ]
     },
     "execution_count": 30,
     "metadata": {},
     "output_type": "execute_result"
    }
   ],
   "source": [
    "# now we are searching particular encoded word of 1st email of x_train in Vocabulary\n",
    "v.get_feature_names_out()[1436]\n",
    "# so here we find that word bored is numbered as 1436 in vocabulary "
   ]
  },
  {
   "cell_type": "markdown",
   "id": "bff4ebee",
   "metadata": {},
   "source": [
    "* now are going to apply machine learning model\n",
    "* Naive bayes model"
   ]
  },
  {
   "cell_type": "code",
   "execution_count": 32,
   "id": "a745e8fe",
   "metadata": {},
   "outputs": [
    {
     "data": {
      "text/html": [
       "<style>#sk-container-id-1 {color: black;background-color: white;}#sk-container-id-1 pre{padding: 0;}#sk-container-id-1 div.sk-toggleable {background-color: white;}#sk-container-id-1 label.sk-toggleable__label {cursor: pointer;display: block;width: 100%;margin-bottom: 0;padding: 0.3em;box-sizing: border-box;text-align: center;}#sk-container-id-1 label.sk-toggleable__label-arrow:before {content: \"▸\";float: left;margin-right: 0.25em;color: #696969;}#sk-container-id-1 label.sk-toggleable__label-arrow:hover:before {color: black;}#sk-container-id-1 div.sk-estimator:hover label.sk-toggleable__label-arrow:before {color: black;}#sk-container-id-1 div.sk-toggleable__content {max-height: 0;max-width: 0;overflow: hidden;text-align: left;background-color: #f0f8ff;}#sk-container-id-1 div.sk-toggleable__content pre {margin: 0.2em;color: black;border-radius: 0.25em;background-color: #f0f8ff;}#sk-container-id-1 input.sk-toggleable__control:checked~div.sk-toggleable__content {max-height: 200px;max-width: 100%;overflow: auto;}#sk-container-id-1 input.sk-toggleable__control:checked~label.sk-toggleable__label-arrow:before {content: \"▾\";}#sk-container-id-1 div.sk-estimator input.sk-toggleable__control:checked~label.sk-toggleable__label {background-color: #d4ebff;}#sk-container-id-1 div.sk-label input.sk-toggleable__control:checked~label.sk-toggleable__label {background-color: #d4ebff;}#sk-container-id-1 input.sk-hidden--visually {border: 0;clip: rect(1px 1px 1px 1px);clip: rect(1px, 1px, 1px, 1px);height: 1px;margin: -1px;overflow: hidden;padding: 0;position: absolute;width: 1px;}#sk-container-id-1 div.sk-estimator {font-family: monospace;background-color: #f0f8ff;border: 1px dotted black;border-radius: 0.25em;box-sizing: border-box;margin-bottom: 0.5em;}#sk-container-id-1 div.sk-estimator:hover {background-color: #d4ebff;}#sk-container-id-1 div.sk-parallel-item::after {content: \"\";width: 100%;border-bottom: 1px solid gray;flex-grow: 1;}#sk-container-id-1 div.sk-label:hover label.sk-toggleable__label {background-color: #d4ebff;}#sk-container-id-1 div.sk-serial::before {content: \"\";position: absolute;border-left: 1px solid gray;box-sizing: border-box;top: 0;bottom: 0;left: 50%;z-index: 0;}#sk-container-id-1 div.sk-serial {display: flex;flex-direction: column;align-items: center;background-color: white;padding-right: 0.2em;padding-left: 0.2em;position: relative;}#sk-container-id-1 div.sk-item {position: relative;z-index: 1;}#sk-container-id-1 div.sk-parallel {display: flex;align-items: stretch;justify-content: center;background-color: white;position: relative;}#sk-container-id-1 div.sk-item::before, #sk-container-id-1 div.sk-parallel-item::before {content: \"\";position: absolute;border-left: 1px solid gray;box-sizing: border-box;top: 0;bottom: 0;left: 50%;z-index: -1;}#sk-container-id-1 div.sk-parallel-item {display: flex;flex-direction: column;z-index: 1;position: relative;background-color: white;}#sk-container-id-1 div.sk-parallel-item:first-child::after {align-self: flex-end;width: 50%;}#sk-container-id-1 div.sk-parallel-item:last-child::after {align-self: flex-start;width: 50%;}#sk-container-id-1 div.sk-parallel-item:only-child::after {width: 0;}#sk-container-id-1 div.sk-dashed-wrapped {border: 1px dashed gray;margin: 0 0.4em 0.5em 0.4em;box-sizing: border-box;padding-bottom: 0.4em;background-color: white;}#sk-container-id-1 div.sk-label label {font-family: monospace;font-weight: bold;display: inline-block;line-height: 1.2em;}#sk-container-id-1 div.sk-label-container {text-align: center;}#sk-container-id-1 div.sk-container {/* jupyter's `normalize.less` sets `[hidden] { display: none; }` but bootstrap.min.css set `[hidden] { display: none !important; }` so we also need the `!important` here to be able to override the default hidden behavior on the sphinx rendered scikit-learn.org. See: https://github.com/scikit-learn/scikit-learn/issues/21755 */display: inline-block !important;position: relative;}#sk-container-id-1 div.sk-text-repr-fallback {display: none;}</style><div id=\"sk-container-id-1\" class=\"sk-top-container\"><div class=\"sk-text-repr-fallback\"><pre>MultinomialNB()</pre><b>In a Jupyter environment, please rerun this cell to show the HTML representation or trust the notebook. <br />On GitHub, the HTML representation is unable to render, please try loading this page with nbviewer.org.</b></div><div class=\"sk-container\" hidden><div class=\"sk-item\"><div class=\"sk-estimator sk-toggleable\"><input class=\"sk-toggleable__control sk-hidden--visually\" id=\"sk-estimator-id-1\" type=\"checkbox\" checked><label for=\"sk-estimator-id-1\" class=\"sk-toggleable__label sk-toggleable__label-arrow\">MultinomialNB</label><div class=\"sk-toggleable__content\"><pre>MultinomialNB()</pre></div></div></div></div></div>"
      ],
      "text/plain": [
       "MultinomialNB()"
      ]
     },
     "execution_count": 32,
     "metadata": {},
     "output_type": "execute_result"
    }
   ],
   "source": [
    "from sklearn.naive_bayes import MultinomialNB\n",
    "\n",
    "model = MultinomialNB()\n",
    "model.fit(X_train_cv,y_train)\n",
    "#cv means count Vectorizer "
   ]
  },
  {
   "cell_type": "code",
   "execution_count": 33,
   "id": "f81fb1b0",
   "metadata": {},
   "outputs": [],
   "source": [
    "#For testing purpose we are first converting X_test data to count vectorizer so that we can test it \n",
    "X_test_cv = v.transform(X_test)"
   ]
  },
  {
   "cell_type": "code",
   "execution_count": 80,
   "id": "55d7b905",
   "metadata": {},
   "outputs": [
    {
     "data": {
      "text/plain": [
       "numpy.ndarray"
      ]
     },
     "execution_count": 80,
     "metadata": {},
     "output_type": "execute_result"
    }
   ],
   "source": [
    "from sklearn.metrics import classification_report\n",
    "y_pred = model.predict(X_test_cv)\n",
    "classification_report1=classification_report(y_test,y_pred)\n",
    "type(y_pred)"
   ]
  },
  {
   "cell_type": "code",
   "execution_count": 81,
   "id": "2fd4769f",
   "metadata": {},
   "outputs": [
    {
     "name": "stdout",
     "output_type": "stream",
     "text": [
      "              precision    recall  f1-score   support\n",
      "\n",
      "           0       0.99      0.99      0.99       965\n",
      "           1       0.97      0.95      0.96       150\n",
      "\n",
      "    accuracy                           0.99      1115\n",
      "   macro avg       0.98      0.97      0.97      1115\n",
      "weighted avg       0.99      0.99      0.99      1115\n",
      "\n"
     ]
    }
   ],
   "source": [
    "print(classification_report1)\n",
    "# we are using classification report which has precision ,recall and f1- score because our dataset was unbalanced"
   ]
  },
  {
   "cell_type": "markdown",
   "id": "e6cbf7f4",
   "metadata": {},
   "source": [
    "**now let's predict email is spam or not by writting email our own**"
   ]
  },
  {
   "cell_type": "code",
   "execution_count": 82,
   "id": "0043d2ae",
   "metadata": {},
   "outputs": [],
   "source": [
    "emails = [\"hey meet can we connect on Linkedin\" ,\n",
    "          \"hey you won lottery of 50000$ free of cost\"\n",
    "          ]"
   ]
  },
  {
   "cell_type": "code",
   "execution_count": 83,
   "id": "bb9efb3b",
   "metadata": {},
   "outputs": [],
   "source": [
    "#transforming mail into count vectorizer\n",
    "email_count = v.transform(emails)"
   ]
  },
  {
   "cell_type": "code",
   "execution_count": 84,
   "id": "9e7b6914",
   "metadata": {},
   "outputs": [
    {
     "data": {
      "text/plain": [
       "array([0, 1], dtype=int64)"
      ]
     },
     "execution_count": 84,
     "metadata": {},
     "output_type": "execute_result"
    }
   ],
   "source": [
    "#now we are predicting email is spam or not \n",
    "model.predict(email_count)"
   ]
  },
  {
   "cell_type": "markdown",
   "id": "c80860ae",
   "metadata": {},
   "source": [
    "* we find that first email is not spam but second email is spam and in reality it seems to be spam so our model has predicted accurately"
   ]
  },
  {
   "cell_type": "markdown",
   "id": "68b79496",
   "metadata": {},
   "source": [
    "**we can do  this all steps easily using sklearn pipeline**"
   ]
  },
  {
   "cell_type": "code",
   "execution_count": 85,
   "id": "620b7738",
   "metadata": {},
   "outputs": [],
   "source": [
    "from sklearn.pipeline import Pipeline\n",
    "clf = Pipeline([\n",
    "    ('vectorizer',CountVectorizer()),\n",
    "    ('nb',MultinomialNB())\n",
    "])"
   ]
  },
  {
   "cell_type": "code",
   "execution_count": 86,
   "id": "5693e344",
   "metadata": {},
   "outputs": [
    {
     "data": {
      "text/html": [
       "<style>#sk-container-id-4 {color: black;background-color: white;}#sk-container-id-4 pre{padding: 0;}#sk-container-id-4 div.sk-toggleable {background-color: white;}#sk-container-id-4 label.sk-toggleable__label {cursor: pointer;display: block;width: 100%;margin-bottom: 0;padding: 0.3em;box-sizing: border-box;text-align: center;}#sk-container-id-4 label.sk-toggleable__label-arrow:before {content: \"▸\";float: left;margin-right: 0.25em;color: #696969;}#sk-container-id-4 label.sk-toggleable__label-arrow:hover:before {color: black;}#sk-container-id-4 div.sk-estimator:hover label.sk-toggleable__label-arrow:before {color: black;}#sk-container-id-4 div.sk-toggleable__content {max-height: 0;max-width: 0;overflow: hidden;text-align: left;background-color: #f0f8ff;}#sk-container-id-4 div.sk-toggleable__content pre {margin: 0.2em;color: black;border-radius: 0.25em;background-color: #f0f8ff;}#sk-container-id-4 input.sk-toggleable__control:checked~div.sk-toggleable__content {max-height: 200px;max-width: 100%;overflow: auto;}#sk-container-id-4 input.sk-toggleable__control:checked~label.sk-toggleable__label-arrow:before {content: \"▾\";}#sk-container-id-4 div.sk-estimator input.sk-toggleable__control:checked~label.sk-toggleable__label {background-color: #d4ebff;}#sk-container-id-4 div.sk-label input.sk-toggleable__control:checked~label.sk-toggleable__label {background-color: #d4ebff;}#sk-container-id-4 input.sk-hidden--visually {border: 0;clip: rect(1px 1px 1px 1px);clip: rect(1px, 1px, 1px, 1px);height: 1px;margin: -1px;overflow: hidden;padding: 0;position: absolute;width: 1px;}#sk-container-id-4 div.sk-estimator {font-family: monospace;background-color: #f0f8ff;border: 1px dotted black;border-radius: 0.25em;box-sizing: border-box;margin-bottom: 0.5em;}#sk-container-id-4 div.sk-estimator:hover {background-color: #d4ebff;}#sk-container-id-4 div.sk-parallel-item::after {content: \"\";width: 100%;border-bottom: 1px solid gray;flex-grow: 1;}#sk-container-id-4 div.sk-label:hover label.sk-toggleable__label {background-color: #d4ebff;}#sk-container-id-4 div.sk-serial::before {content: \"\";position: absolute;border-left: 1px solid gray;box-sizing: border-box;top: 0;bottom: 0;left: 50%;z-index: 0;}#sk-container-id-4 div.sk-serial {display: flex;flex-direction: column;align-items: center;background-color: white;padding-right: 0.2em;padding-left: 0.2em;position: relative;}#sk-container-id-4 div.sk-item {position: relative;z-index: 1;}#sk-container-id-4 div.sk-parallel {display: flex;align-items: stretch;justify-content: center;background-color: white;position: relative;}#sk-container-id-4 div.sk-item::before, #sk-container-id-4 div.sk-parallel-item::before {content: \"\";position: absolute;border-left: 1px solid gray;box-sizing: border-box;top: 0;bottom: 0;left: 50%;z-index: -1;}#sk-container-id-4 div.sk-parallel-item {display: flex;flex-direction: column;z-index: 1;position: relative;background-color: white;}#sk-container-id-4 div.sk-parallel-item:first-child::after {align-self: flex-end;width: 50%;}#sk-container-id-4 div.sk-parallel-item:last-child::after {align-self: flex-start;width: 50%;}#sk-container-id-4 div.sk-parallel-item:only-child::after {width: 0;}#sk-container-id-4 div.sk-dashed-wrapped {border: 1px dashed gray;margin: 0 0.4em 0.5em 0.4em;box-sizing: border-box;padding-bottom: 0.4em;background-color: white;}#sk-container-id-4 div.sk-label label {font-family: monospace;font-weight: bold;display: inline-block;line-height: 1.2em;}#sk-container-id-4 div.sk-label-container {text-align: center;}#sk-container-id-4 div.sk-container {/* jupyter's `normalize.less` sets `[hidden] { display: none; }` but bootstrap.min.css set `[hidden] { display: none !important; }` so we also need the `!important` here to be able to override the default hidden behavior on the sphinx rendered scikit-learn.org. See: https://github.com/scikit-learn/scikit-learn/issues/21755 */display: inline-block !important;position: relative;}#sk-container-id-4 div.sk-text-repr-fallback {display: none;}</style><div id=\"sk-container-id-4\" class=\"sk-top-container\"><div class=\"sk-text-repr-fallback\"><pre>Pipeline(steps=[(&#x27;vectorizer&#x27;, CountVectorizer()), (&#x27;nb&#x27;, MultinomialNB())])</pre><b>In a Jupyter environment, please rerun this cell to show the HTML representation or trust the notebook. <br />On GitHub, the HTML representation is unable to render, please try loading this page with nbviewer.org.</b></div><div class=\"sk-container\" hidden><div class=\"sk-item sk-dashed-wrapped\"><div class=\"sk-label-container\"><div class=\"sk-label sk-toggleable\"><input class=\"sk-toggleable__control sk-hidden--visually\" id=\"sk-estimator-id-8\" type=\"checkbox\" ><label for=\"sk-estimator-id-8\" class=\"sk-toggleable__label sk-toggleable__label-arrow\">Pipeline</label><div class=\"sk-toggleable__content\"><pre>Pipeline(steps=[(&#x27;vectorizer&#x27;, CountVectorizer()), (&#x27;nb&#x27;, MultinomialNB())])</pre></div></div></div><div class=\"sk-serial\"><div class=\"sk-item\"><div class=\"sk-estimator sk-toggleable\"><input class=\"sk-toggleable__control sk-hidden--visually\" id=\"sk-estimator-id-9\" type=\"checkbox\" ><label for=\"sk-estimator-id-9\" class=\"sk-toggleable__label sk-toggleable__label-arrow\">CountVectorizer</label><div class=\"sk-toggleable__content\"><pre>CountVectorizer()</pre></div></div></div><div class=\"sk-item\"><div class=\"sk-estimator sk-toggleable\"><input class=\"sk-toggleable__control sk-hidden--visually\" id=\"sk-estimator-id-10\" type=\"checkbox\" ><label for=\"sk-estimator-id-10\" class=\"sk-toggleable__label sk-toggleable__label-arrow\">MultinomialNB</label><div class=\"sk-toggleable__content\"><pre>MultinomialNB()</pre></div></div></div></div></div></div></div>"
      ],
      "text/plain": [
       "Pipeline(steps=[('vectorizer', CountVectorizer()), ('nb', MultinomialNB())])"
      ]
     },
     "execution_count": 86,
     "metadata": {},
     "output_type": "execute_result"
    }
   ],
   "source": [
    "clf.fit(X_train,y_train)"
   ]
  },
  {
   "cell_type": "code",
   "execution_count": 87,
   "id": "309710aa",
   "metadata": {},
   "outputs": [
    {
     "data": {
      "text/plain": [
       "numpy.ndarray"
      ]
     },
     "execution_count": 87,
     "metadata": {},
     "output_type": "execute_result"
    }
   ],
   "source": [
    "y_pred = clf.predict(X_test)\n",
    "type(y_pred)"
   ]
  },
  {
   "cell_type": "code",
   "execution_count": 88,
   "id": "eeb777ef",
   "metadata": {},
   "outputs": [],
   "source": [
    "classification_report2 = classification_report(y_test,y_pred)"
   ]
  },
  {
   "cell_type": "code",
   "execution_count": 90,
   "id": "0cf28fc2",
   "metadata": {},
   "outputs": [
    {
     "name": "stdout",
     "output_type": "stream",
     "text": [
      "              precision    recall  f1-score   support\n",
      "\n",
      "           0       0.99      0.99      0.99       965\n",
      "           1       0.97      0.95      0.96       150\n",
      "\n",
      "    accuracy                           0.99      1115\n",
      "   macro avg       0.98      0.97      0.97      1115\n",
      "weighted avg       0.99      0.99      0.99      1115\n",
      "\n"
     ]
    }
   ],
   "source": [
    "print(classification_report2)"
   ]
  },
  {
   "cell_type": "code",
   "execution_count": null,
   "id": "e9d44d89",
   "metadata": {},
   "outputs": [],
   "source": []
  }
 ],
 "metadata": {
  "kernelspec": {
   "display_name": "Python 3 (ipykernel)",
   "language": "python",
   "name": "python3"
  },
  "language_info": {
   "codemirror_mode": {
    "name": "ipython",
    "version": 3
   },
   "file_extension": ".py",
   "mimetype": "text/x-python",
   "name": "python",
   "nbconvert_exporter": "python",
   "pygments_lexer": "ipython3",
   "version": "3.9.12"
  }
 },
 "nbformat": 4,
 "nbformat_minor": 5
}
