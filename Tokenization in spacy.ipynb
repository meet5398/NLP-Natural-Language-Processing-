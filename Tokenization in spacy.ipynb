{
 "cells": [
  {
   "cell_type": "code",
   "execution_count": 1,
   "id": "07ef9c28",
   "metadata": {},
   "outputs": [],
   "source": [
    "import spacy\n"
   ]
  },
  {
   "cell_type": "code",
   "execution_count": 2,
   "id": "69cf4e16",
   "metadata": {},
   "outputs": [],
   "source": [
    "nlp =spacy.blank('en')\n",
    "#create a blank english language component "
   ]
  },
  {
   "cell_type": "code",
   "execution_count": 3,
   "id": "4f460089",
   "metadata": {},
   "outputs": [],
   "source": [
    "doc =nlp(\"Dr. strange loves pav bhaji of mumbai as it costs only 10$ per plate. \")\n",
    "doc1=nlp('''\"let's go to N.Y.!\"''')"
   ]
  },
  {
   "cell_type": "code",
   "execution_count": 4,
   "id": "26025c69",
   "metadata": {},
   "outputs": [
    {
     "name": "stdout",
     "output_type": "stream",
     "text": [
      "\"\n",
      "let\n",
      "'s\n",
      "go\n",
      "to\n",
      "N.Y.\n",
      "!\n",
      "\"\n"
     ]
    }
   ],
   "source": [
    "for token in doc1:\n",
    "    print (token)"
   ]
  },
  {
   "cell_type": "code",
   "execution_count": 5,
   "id": "ad3f2432",
   "metadata": {},
   "outputs": [
    {
     "name": "stdout",
     "output_type": "stream",
     "text": [
      "Dr.\n",
      "strange\n",
      "loves\n",
      "pav\n",
      "bhaji\n",
      "of\n",
      "mumbai\n",
      "as\n",
      "it\n",
      "costs\n",
      "only\n",
      "10\n",
      "$\n",
      "per\n",
      "plate\n",
      ".\n"
     ]
    }
   ],
   "source": [
    "for token in doc:\n",
    "    print (token)"
   ]
  },
  {
   "cell_type": "code",
   "execution_count": 6,
   "id": "8f7984f7",
   "metadata": {},
   "outputs": [
    {
     "data": {
      "text/plain": [
       "pav bhaji of"
      ]
     },
     "execution_count": 6,
     "metadata": {},
     "output_type": "execute_result"
    }
   ],
   "source": [
    "doc[3:6]"
   ]
  },
  {
   "cell_type": "code",
   "execution_count": 7,
   "id": "7d5229af",
   "metadata": {},
   "outputs": [
    {
     "data": {
      "text/plain": [
       "spacy.lang.en.English"
      ]
     },
     "execution_count": 7,
     "metadata": {},
     "output_type": "execute_result"
    }
   ],
   "source": [
    "type(nlp)"
   ]
  },
  {
   "cell_type": "code",
   "execution_count": 8,
   "id": "93147031",
   "metadata": {},
   "outputs": [
    {
     "data": {
      "text/plain": [
       "spacy.tokens.doc.Doc"
      ]
     },
     "execution_count": 8,
     "metadata": {},
     "output_type": "execute_result"
    }
   ],
   "source": [
    "type(doc)"
   ]
  },
  {
   "cell_type": "code",
   "execution_count": 9,
   "id": "39c8b508",
   "metadata": {},
   "outputs": [
    {
     "data": {
      "text/plain": [
       "spacy.tokens.token.Token"
      ]
     },
     "execution_count": 9,
     "metadata": {},
     "output_type": "execute_result"
    }
   ],
   "source": [
    "type(token)"
   ]
  },
  {
   "cell_type": "code",
   "execution_count": 10,
   "id": "7ba06b96",
   "metadata": {},
   "outputs": [],
   "source": [
    "doc=nlp(\"meet gave two $ to ronak.\")"
   ]
  },
  {
   "cell_type": "code",
   "execution_count": 11,
   "id": "3d89edfa",
   "metadata": {},
   "outputs": [
    {
     "data": {
      "text/plain": [
       "meet"
      ]
     },
     "execution_count": 11,
     "metadata": {},
     "output_type": "execute_result"
    }
   ],
   "source": [
    "token0=doc[0]\n",
    "token0"
   ]
  },
  {
   "cell_type": "code",
   "execution_count": 12,
   "id": "35872d41",
   "metadata": {},
   "outputs": [
    {
     "data": {
      "text/plain": [
       "spacy.tokens.token.Token"
      ]
     },
     "execution_count": 12,
     "metadata": {},
     "output_type": "execute_result"
    }
   ],
   "source": [
    "type(token)"
   ]
  },
  {
   "cell_type": "code",
   "execution_count": 13,
   "id": "88e9fcdf",
   "metadata": {},
   "outputs": [
    {
     "data": {
      "text/plain": [
       "['_',\n",
       " '__bytes__',\n",
       " '__class__',\n",
       " '__delattr__',\n",
       " '__dir__',\n",
       " '__doc__',\n",
       " '__eq__',\n",
       " '__format__',\n",
       " '__ge__',\n",
       " '__getattribute__',\n",
       " '__gt__',\n",
       " '__hash__',\n",
       " '__init__',\n",
       " '__init_subclass__',\n",
       " '__le__',\n",
       " '__len__',\n",
       " '__lt__',\n",
       " '__ne__',\n",
       " '__new__',\n",
       " '__pyx_vtable__',\n",
       " '__reduce__',\n",
       " '__reduce_ex__',\n",
       " '__repr__',\n",
       " '__setattr__',\n",
       " '__sizeof__',\n",
       " '__str__',\n",
       " '__subclasshook__',\n",
       " '__unicode__',\n",
       " 'ancestors',\n",
       " 'check_flag',\n",
       " 'children',\n",
       " 'cluster',\n",
       " 'conjuncts',\n",
       " 'dep',\n",
       " 'dep_',\n",
       " 'doc',\n",
       " 'ent_id',\n",
       " 'ent_id_',\n",
       " 'ent_iob',\n",
       " 'ent_iob_',\n",
       " 'ent_kb_id',\n",
       " 'ent_kb_id_',\n",
       " 'ent_type',\n",
       " 'ent_type_',\n",
       " 'get_extension',\n",
       " 'has_dep',\n",
       " 'has_extension',\n",
       " 'has_head',\n",
       " 'has_morph',\n",
       " 'has_vector',\n",
       " 'head',\n",
       " 'i',\n",
       " 'idx',\n",
       " 'iob_strings',\n",
       " 'is_alpha',\n",
       " 'is_ancestor',\n",
       " 'is_ascii',\n",
       " 'is_bracket',\n",
       " 'is_currency',\n",
       " 'is_digit',\n",
       " 'is_left_punct',\n",
       " 'is_lower',\n",
       " 'is_oov',\n",
       " 'is_punct',\n",
       " 'is_quote',\n",
       " 'is_right_punct',\n",
       " 'is_sent_end',\n",
       " 'is_sent_start',\n",
       " 'is_space',\n",
       " 'is_stop',\n",
       " 'is_title',\n",
       " 'is_upper',\n",
       " 'lang',\n",
       " 'lang_',\n",
       " 'left_edge',\n",
       " 'lefts',\n",
       " 'lemma',\n",
       " 'lemma_',\n",
       " 'lex',\n",
       " 'lex_id',\n",
       " 'like_email',\n",
       " 'like_num',\n",
       " 'like_url',\n",
       " 'lower',\n",
       " 'lower_',\n",
       " 'morph',\n",
       " 'n_lefts',\n",
       " 'n_rights',\n",
       " 'nbor',\n",
       " 'norm',\n",
       " 'norm_',\n",
       " 'orth',\n",
       " 'orth_',\n",
       " 'pos',\n",
       " 'pos_',\n",
       " 'prefix',\n",
       " 'prefix_',\n",
       " 'prob',\n",
       " 'rank',\n",
       " 'remove_extension',\n",
       " 'right_edge',\n",
       " 'rights',\n",
       " 'sent',\n",
       " 'sent_start',\n",
       " 'sentiment',\n",
       " 'set_extension',\n",
       " 'set_morph',\n",
       " 'shape',\n",
       " 'shape_',\n",
       " 'similarity',\n",
       " 'subtree',\n",
       " 'suffix',\n",
       " 'suffix_',\n",
       " 'tag',\n",
       " 'tag_',\n",
       " 'tensor',\n",
       " 'text',\n",
       " 'text_with_ws',\n",
       " 'vector',\n",
       " 'vector_norm',\n",
       " 'vocab',\n",
       " 'whitespace_']"
      ]
     },
     "execution_count": 13,
     "metadata": {},
     "output_type": "execute_result"
    }
   ],
   "source": [
    "dir(token0)\n",
    "#inside the class token0 these many methods exists and we can use all of them"
   ]
  },
  {
   "cell_type": "code",
   "execution_count": 14,
   "id": "ee3ed861",
   "metadata": {},
   "outputs": [
    {
     "data": {
      "text/plain": [
       "True"
      ]
     },
     "execution_count": 14,
     "metadata": {},
     "output_type": "execute_result"
    }
   ],
   "source": [
    "token0.is_alpha"
   ]
  },
  {
   "cell_type": "code",
   "execution_count": 15,
   "id": "c3d9fc46",
   "metadata": {},
   "outputs": [
    {
     "data": {
      "text/plain": [
       "'two'"
      ]
     },
     "execution_count": 15,
     "metadata": {},
     "output_type": "execute_result"
    }
   ],
   "source": [
    "token2=doc[2]\n",
    "token2.text"
   ]
  },
  {
   "cell_type": "code",
   "execution_count": 16,
   "id": "9b9d71d1",
   "metadata": {},
   "outputs": [
    {
     "data": {
      "text/plain": [
       "True"
      ]
     },
     "execution_count": 16,
     "metadata": {},
     "output_type": "execute_result"
    }
   ],
   "source": [
    "token2.like_num"
   ]
  },
  {
   "cell_type": "code",
   "execution_count": 17,
   "id": "576040ca",
   "metadata": {},
   "outputs": [
    {
     "name": "stdout",
     "output_type": "stream",
     "text": [
      "meet --> index:  0 is_alpha True is_punct: False like_num: False is_currency: False\n",
      "gave --> index:  1 is_alpha True is_punct: False like_num: False is_currency: False\n",
      "two --> index:  2 is_alpha True is_punct: False like_num: True is_currency: False\n",
      "$ --> index:  3 is_alpha False is_punct: False like_num: False is_currency: True\n",
      "to --> index:  4 is_alpha True is_punct: False like_num: False is_currency: False\n",
      "ronak --> index:  5 is_alpha True is_punct: False like_num: False is_currency: False\n",
      ". --> index:  6 is_alpha False is_punct: True like_num: False is_currency: False\n"
     ]
    }
   ],
   "source": [
    "for token in doc:\n",
    "    print(token, \"-->\",\"index: \",token.i,\n",
    "         \"is_alpha\",token.is_alpha,\n",
    "         \"is_punct:\",token.is_punct,\n",
    "         \"like_num:\",token.like_num,\n",
    "         \"is_currency:\",token.is_currency,\n",
    "         )"
   ]
  },
  {
   "cell_type": "code",
   "execution_count": 18,
   "id": "dc588ec5",
   "metadata": {},
   "outputs": [
    {
     "data": {
      "text/plain": [
       "['parul university, final year student information\\n',\n",
       " '\\n',\n",
       " '\\n',\n",
       " 'Name        address     email \\n',\n",
       " 'Meet        Vadodara   meet12345@gmail.com\\n',\n",
       " 'Ronak       Rajkot     ronak434@gmail.com\\n',\n",
       " 'het         Ahmedabad  het@paruluniversity.ac.in\\n']"
      ]
     },
     "execution_count": 18,
     "metadata": {},
     "output_type": "execute_result"
    }
   ],
   "source": [
    "with open (\"student_info.txt\") as f:\n",
    "    text = f.readlines() #f.readlines will read all lines\n",
    "text"
   ]
  },
  {
   "cell_type": "code",
   "execution_count": 19,
   "id": "cf1b1f24",
   "metadata": {},
   "outputs": [
    {
     "data": {
      "text/plain": [
       "'parul university, final year student information\\n \\n \\n Name        address     email \\n Meet        Vadodara   meet12345@gmail.com\\n Ronak       Rajkot     ronak434@gmail.com\\n het         Ahmedabad  het@paruluniversity.ac.in\\n'"
      ]
     },
     "execution_count": 19,
     "metadata": {},
     "output_type": "execute_result"
    }
   ],
   "source": [
    "#spacy take single text so we will convert it into single text\n",
    "text= ' '.join(text)  # so it will join in single single sentnece and space will be delimator for separating join\n",
    "text"
   ]
  },
  {
   "cell_type": "code",
   "execution_count": 20,
   "id": "34f029dd",
   "metadata": {},
   "outputs": [],
   "source": [
    "doc =nlp(text)\n",
    "emails=[]"
   ]
  },
  {
   "cell_type": "code",
   "execution_count": 21,
   "id": "55ec7f87",
   "metadata": {},
   "outputs": [],
   "source": [
    "for token in doc:\n",
    "    \n",
    "    if token.like_email:\n",
    "        emails.append(token)\n",
    "        "
   ]
  },
  {
   "cell_type": "code",
   "execution_count": 22,
   "id": "959b2824",
   "metadata": {},
   "outputs": [
    {
     "data": {
      "text/plain": [
       "[meet12345@gmail.com, ronak434@gmail.com, het@paruluniversity.ac.in]"
      ]
     },
     "execution_count": 22,
     "metadata": {},
     "output_type": "execute_result"
    }
   ],
   "source": [
    "emails"
   ]
  },
  {
   "cell_type": "markdown",
   "id": "4f690c87",
   "metadata": {},
   "source": [
    "#now we will try in hindi"
   ]
  },
  {
   "cell_type": "code",
   "execution_count": 23,
   "id": "394e1960",
   "metadata": {},
   "outputs": [],
   "source": [
    "nlp=spacy.blank(\"hi\")\n",
    "doc=nlp(\"मेरे को मेरे 5000 ₹ लोता दो , 5 माहिने हो गाये हे.\")"
   ]
  },
  {
   "cell_type": "code",
   "execution_count": 24,
   "id": "a3839aec",
   "metadata": {},
   "outputs": [
    {
     "name": "stdout",
     "output_type": "stream",
     "text": [
      "मेरे False False\n",
      "को False False\n",
      "मेरे False False\n",
      "5000 False True\n",
      "₹ True False\n",
      "लोता False False\n",
      "दो False True\n",
      ", False False\n",
      "5 False True\n",
      "माहिने False False\n",
      "हो False False\n",
      "गाये False False\n",
      "हे False False\n",
      ". False False\n"
     ]
    }
   ],
   "source": [
    "for token in doc:\n",
    "    print(token,token.is_currency,token.like_num)"
   ]
  },
  {
   "cell_type": "markdown",
   "id": "aa31ad20",
   "metadata": {},
   "source": [
    "customize tokenizer"
   ]
  },
  {
   "cell_type": "code",
   "execution_count": 25,
   "id": "e3bd1c31",
   "metadata": {},
   "outputs": [
    {
     "data": {
      "text/plain": [
       "['gimme', 'double', 'cheese', 'extra', 'large', 'healthy', 'pizza']"
      ]
     },
     "execution_count": 25,
     "metadata": {},
     "output_type": "execute_result"
    }
   ],
   "source": [
    "nlp =spacy.blank('en')\n",
    "doc = nlp(\"gimme double cheese extra large healthy pizza\")\n",
    "tokens = [ tokens.text for tokens in doc]\n",
    "# we are grabing everything in an array it is called list conphrehension \n",
    "tokens"
   ]
  },
  {
   "cell_type": "code",
   "execution_count": 26,
   "id": "87702284",
   "metadata": {},
   "outputs": [
    {
     "data": {
      "text/plain": [
       "['gim', 'me', 'double', 'cheese', 'extra', 'large', 'healthy', 'pizza']"
      ]
     },
     "execution_count": 26,
     "metadata": {},
     "output_type": "execute_result"
    }
   ],
   "source": [
    "from spacy.symbols import ORTH\n",
    "\n",
    "nlp.tokenizer.add_special_case(\"gimme\",[\n",
    "    {ORTH:\"gim\"},\n",
    "    {ORTH:\"me\"}])\n",
    "# we can't modify , we can only split\n",
    "doc = nlp(\"gimme double cheese extra large healthy pizza\")\n",
    "tokens = [ tokens.text for tokens in doc]\n",
    "# we are grabing everything in an array it is called list conphrehension \n",
    "tokens"
   ]
  },
  {
   "cell_type": "markdown",
   "id": "5faf0e00",
   "metadata": {},
   "source": [
    "sentence tokenization"
   ]
  },
  {
   "cell_type": "code",
   "execution_count": 27,
   "id": "41914c4e",
   "metadata": {},
   "outputs": [
    {
     "data": {
      "text/plain": [
       "[]"
      ]
     },
     "execution_count": 27,
     "metadata": {},
     "output_type": "execute_result"
    }
   ],
   "source": [
    "nlp.pipe_names\n",
    "# as we can see that our pipeline is empty and in empty pipeline there is only tokenzier exist \n",
    "# you can't do sentence tokenizer for that we need to add pipe "
   ]
  },
  {
   "cell_type": "code",
   "execution_count": 28,
   "id": "87428af9",
   "metadata": {},
   "outputs": [
    {
     "data": {
      "text/plain": [
       "<spacy.pipeline.sentencizer.Sentencizer at 0x186821a57c0>"
      ]
     },
     "execution_count": 28,
     "metadata": {},
     "output_type": "execute_result"
    }
   ],
   "source": [
    "nlp.add_pipe('sentencizer')"
   ]
  },
  {
   "cell_type": "code",
   "execution_count": 29,
   "id": "6b0effdf",
   "metadata": {},
   "outputs": [
    {
     "data": {
      "text/plain": [
       "['sentencizer']"
      ]
     },
     "execution_count": 29,
     "metadata": {},
     "output_type": "execute_result"
    }
   ],
   "source": [
    "nlp.pipe_names"
   ]
  },
  {
   "cell_type": "code",
   "execution_count": 30,
   "id": "f6c53135",
   "metadata": {},
   "outputs": [
    {
     "name": "stdout",
     "output_type": "stream",
     "text": [
      "Dr. Strange loves pav bhaji of mumbai.\n",
      "Hulk loves chat of delhi\n"
     ]
    }
   ],
   "source": [
    "doc = nlp(\"Dr. Strange loves pav bhaji of mumbai. Hulk loves chat of delhi\")\n",
    "for sentence in doc.sents:\n",
    "    print(sentence)"
   ]
  },
  {
   "cell_type": "code",
   "execution_count": null,
   "id": "39c684a4",
   "metadata": {},
   "outputs": [],
   "source": []
  },
  {
   "cell_type": "code",
   "execution_count": null,
   "id": "892c0871",
   "metadata": {},
   "outputs": [],
   "source": []
  }
 ],
 "metadata": {
  "kernelspec": {
   "display_name": "Python 3 (ipykernel)",
   "language": "python",
   "name": "python3"
  },
  "language_info": {
   "codemirror_mode": {
    "name": "ipython",
    "version": 3
   },
   "file_extension": ".py",
   "mimetype": "text/x-python",
   "name": "python",
   "nbconvert_exporter": "python",
   "pygments_lexer": "ipython3",
   "version": "3.9.12"
  }
 },
 "nbformat": 4,
 "nbformat_minor": 5
}
