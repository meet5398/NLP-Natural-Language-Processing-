{
 "cells": [
  {
   "cell_type": "code",
   "execution_count": 1,
   "id": "854d4515",
   "metadata": {},
   "outputs": [],
   "source": [
    "import spacy"
   ]
  },
  {
   "cell_type": "code",
   "execution_count": 2,
   "id": "9501b148",
   "metadata": {},
   "outputs": [
    {
     "name": "stdout",
     "output_type": "stream",
     "text": [
      "Narendra\n",
      "modi\n",
      "ate\n",
      "100\n",
      "$\n",
      "of\n",
      "samosa\n",
      ".\n",
      "then\n",
      "he\n",
      "said\n",
      "I\n",
      "am\n",
      "feeling\n",
      "sleeping\n",
      ".\n"
     ]
    }
   ],
   "source": [
    "nlp = spacy.blank(\"en\")\n",
    "doc = nlp(\"Narendra modi ate 100$ of samosa. then he said I am feeling sleeping.\")\n",
    "for token in doc:\n",
    "     print(token)"
   ]
  },
  {
   "cell_type": "code",
   "execution_count": 3,
   "id": "f560fa15",
   "metadata": {},
   "outputs": [
    {
     "data": {
      "text/plain": [
       "[]"
      ]
     },
     "execution_count": 3,
     "metadata": {},
     "output_type": "execute_result"
    }
   ],
   "source": [
    "nlp.pipe_names"
   ]
  },
  {
   "cell_type": "code",
   "execution_count": 4,
   "id": "8916ef84",
   "metadata": {},
   "outputs": [],
   "source": [
    "nlp =spacy.load(\"en_core_web_sm\") "
   ]
  },
  {
   "cell_type": "code",
   "execution_count": 5,
   "id": "f7dd0a1e",
   "metadata": {},
   "outputs": [
    {
     "data": {
      "text/plain": [
       "[('tok2vec', <spacy.pipeline.tok2vec.Tok2Vec at 0x1a24b05c760>),\n",
       " ('tagger', <spacy.pipeline.tagger.Tagger at 0x1a24b05c640>),\n",
       " ('parser', <spacy.pipeline.dep_parser.DependencyParser at 0x1a24ad5e4a0>),\n",
       " ('attribute_ruler',\n",
       "  <spacy.pipeline.attributeruler.AttributeRuler at 0x1a24b0d9a00>),\n",
       " ('lemmatizer', <spacy.lang.en.lemmatizer.EnglishLemmatizer at 0x1a24b116800>),\n",
       " ('ner', <spacy.pipeline.ner.EntityRecognizer at 0x1a24ad5e200>)]"
      ]
     },
     "execution_count": 5,
     "metadata": {},
     "output_type": "execute_result"
    }
   ],
   "source": [
    "nlp.pipeline"
   ]
  },
  {
   "cell_type": "code",
   "execution_count": 6,
   "id": "ed190e63",
   "metadata": {},
   "outputs": [
    {
     "name": "stdout",
     "output_type": "stream",
     "text": [
      "Narendra  |  PROPN  |  Narendra\n",
      "modi  |  NOUN  |  modi\n",
      "ate  |  VERB  |  eat\n",
      "100  |  NUM  |  100\n",
      "$  |  NOUN  |  $\n",
      "of  |  ADP  |  of\n",
      "samosa  |  PROPN  |  samosa\n",
      ".  |  PUNCT  |  .\n",
      "then  |  ADV  |  then\n",
      "he  |  PRON  |  he\n",
      "said  |  VERB  |  say\n",
      "I  |  PRON  |  I\n",
      "am  |  AUX  |  be\n",
      "feeling  |  VERB  |  feel\n",
      "sleeping  |  VERB  |  sleep\n",
      ".  |  PUNCT  |  .\n"
     ]
    }
   ],
   "source": [
    "doc = nlp(\"Narendra modi ate 100$ of samosa. then he said I am feeling sleeping.\")\n",
    "for token in doc:\n",
    "     print(token,\" | \",token.pos_,\" | \", token.lemma_)\n",
    "#pos_ is part of speech , # lemma_ is original word of that word for exmple here eat is original word of ate"
   ]
  },
  {
   "cell_type": "code",
   "execution_count": 7,
   "id": "11a57912",
   "metadata": {},
   "outputs": [
    {
     "name": "stdout",
     "output_type": "stream",
     "text": [
      "$45 billion | MONEY | Monetary values, including unit\n"
     ]
    }
   ],
   "source": [
    "# entity recognition \n",
    "doc = nlp(\"tesla Inc has acquire twitter for $45 billion\")\n",
    "for ent in doc.ents:\n",
    "        print(ent.text,\"|\",ent.label_,\"|\",spacy.explain(ent.label_))\n",
    "#ent.label_ is for label entity present in text \n",
    "#spacy.explain : explain entity label"
   ]
  },
  {
   "cell_type": "code",
   "execution_count": 8,
   "id": "cfc81747",
   "metadata": {},
   "outputs": [
    {
     "data": {
      "text/html": [
       "<span class=\"tex2jax_ignore\"><div class=\"entities\" style=\"line-height: 2.5; direction: ltr\">tesla Inc has acquire twitter for \n",
       "<mark class=\"entity\" style=\"background: #e4e7d2; padding: 0.45em 0.6em; margin: 0 0.25em; line-height: 1; border-radius: 0.35em;\">\n",
       "    $45 billion\n",
       "    <span style=\"font-size: 0.8em; font-weight: bold; line-height: 1; border-radius: 0.35em; vertical-align: middle; margin-left: 0.5rem\">MONEY</span>\n",
       "</mark>\n",
       "</div></span>"
      ],
      "text/plain": [
       "<IPython.core.display.HTML object>"
      ]
     },
     "metadata": {},
     "output_type": "display_data"
    }
   ],
   "source": [
    "#we are using displacy for beautifying recognition\n",
    "from spacy import displacy\n",
    "displacy.render(doc,style=\"ent\")"
   ]
  },
  {
   "cell_type": "markdown",
   "id": "b8110f2e",
   "metadata": {},
   "source": [
    "if we will be using blank pipeline then following will be the output:"
   ]
  },
  {
   "cell_type": "code",
   "execution_count": 9,
   "id": "78158e71",
   "metadata": {},
   "outputs": [
    {
     "name": "stdout",
     "output_type": "stream",
     "text": [
      "Narendra  |    |  \n",
      "modi  |    |  \n",
      "ate  |    |  \n",
      "100  |    |  \n",
      "$  |    |  \n",
      "of  |    |  \n",
      "samosa  |    |  \n",
      ".  |    |  \n",
      "then  |    |  \n",
      "he  |    |  \n",
      "said  |    |  \n",
      "I  |    |  \n",
      "am  |    |  \n",
      "feeling  |    |  \n",
      "sleeping  |    |  \n",
      ".  |    |  \n"
     ]
    }
   ],
   "source": [
    "nlp=spacy.blank(\"en\")\n",
    "doc = nlp(\"Narendra modi ate 100$ of samosa. then he said I am feeling sleeping.\")\n",
    "for token in doc:\n",
    "     print(token,\" | \",token.pos_,\" | \", token.lemma_)\n",
    "#pos_ is part of speech , # lemma_ is original word of that word for exmple here eat is original word of ate"
   ]
  },
  {
   "cell_type": "code",
   "execution_count": 10,
   "id": "3f9351d5",
   "metadata": {},
   "outputs": [],
   "source": [
    "nlp=spacy.blank(\"en\")\n",
    "doc = nlp(\"Narendra modi ate 100$ of samosa. then he said I am feeling sleeping.\")\n",
    "for ent in doc.ents:\n",
    "    print(ent.text, \"|\",ent.label_,\" \",spacy.explain.label_)"
   ]
  },
  {
   "cell_type": "markdown",
   "id": "a99a64c1",
   "metadata": {},
   "source": [
    "In above code we are not getting output because pipeline was empty .  "
   ]
  },
  {
   "cell_type": "code",
   "execution_count": 11,
   "id": "9faf5e6b",
   "metadata": {},
   "outputs": [
    {
     "data": {
      "text/plain": [
       "['ner']"
      ]
     },
     "execution_count": 11,
     "metadata": {},
     "output_type": "execute_result"
    }
   ],
   "source": [
    "source_nlp=spacy.load(\"en_core_web_sm\")\n",
    "nlp=spacy.blank(\"en\")\n",
    "# adding pipe \n",
    "nlp.add_pipe(\"ner\",source=source_nlp)\n",
    "nlp.pipe_names"
   ]
  },
  {
   "cell_type": "code",
   "execution_count": 12,
   "id": "72aaec7c",
   "metadata": {},
   "outputs": [
    {
     "name": "stdout",
     "output_type": "stream",
     "text": [
      "Narendra | PERSON | People, including fictional\n",
      "100$ | MONEY | Monetary values, including unit\n"
     ]
    }
   ],
   "source": [
    "\n",
    "doc = nlp(\"Narendra modi ate 100$ of samosa. then he said I am feeling sleeping.\")\n",
    "for ent in doc.ents:\n",
    "    print(ent.text, \"|\",ent.label_ ,\"|\",spacy.explain(ent.label_))"
   ]
  },
  {
   "cell_type": "code",
   "execution_count": null,
   "id": "ebe55b4b",
   "metadata": {},
   "outputs": [],
   "source": []
  }
 ],
 "metadata": {
  "kernelspec": {
   "display_name": "Python 3 (ipykernel)",
   "language": "python",
   "name": "python3"
  },
  "language_info": {
   "codemirror_mode": {
    "name": "ipython",
    "version": 3
   },
   "file_extension": ".py",
   "mimetype": "text/x-python",
   "name": "python",
   "nbconvert_exporter": "python",
   "pygments_lexer": "ipython3",
   "version": "3.9.12"
  }
 },
 "nbformat": 4,
 "nbformat_minor": 5
}
