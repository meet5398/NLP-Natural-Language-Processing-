{
 "cells": [
  {
   "cell_type": "markdown",
   "id": "c40b9b01",
   "metadata": {},
   "source": [
    "## word vector occupy lot of space, hence en_core_web_sm model do not have them included\n",
    "## In order to download word Vectors\n",
    "## you need to install large or medium english model ,\n",
    "### make sure you have run \"python -m spacy download en_core_web_lg\" to install large english model\n"
   ]
  },
  {
   "cell_type": "code",
   "execution_count": 9,
   "id": "43b25ff0",
   "metadata": {},
   "outputs": [],
   "source": [
    "import spacy"
   ]
  },
  {
   "cell_type": "code",
   "execution_count": 10,
   "id": "f883c780",
   "metadata": {},
   "outputs": [],
   "source": [
    "# from spacy.cli import download\n",
    "# download(\"en_core_web_lg\")\n",
    "# download(\"en_core_web_md\")\n",
    "# this snippet is for downloading md and large english packagea"
   ]
  },
  {
   "cell_type": "code",
   "execution_count": 11,
   "id": "6912e998",
   "metadata": {},
   "outputs": [],
   "source": [
    "nlp=spacy.load(\"en_core_web_lg\")\n"
   ]
  },
  {
   "cell_type": "code",
   "execution_count": 12,
   "id": "6c67b390",
   "metadata": {},
   "outputs": [
    {
     "name": "stdout",
     "output_type": "stream",
     "text": [
      "dog vector: True OOV False\n",
      "cat vector: True OOV False\n",
      "banana vector: True OOV False\n",
      "meetmori vector: False OOV True\n"
     ]
    }
   ],
   "source": [
    "doc=nlp(\"dog cat banana meetmori\")\n",
    "for token in doc:\n",
    "     print(token.text, \"vector:\", token.has_vector, \"OOV\",token.is_oov)"
   ]
  },
  {
   "cell_type": "code",
   "execution_count": 20,
   "id": "98b47a9f",
   "metadata": {},
   "outputs": [
    {
     "name": "stdout",
     "output_type": "stream",
     "text": [
      "[ 1.2330e+00  4.2963e+00 -7.9738e+00 -1.0121e+01  1.8207e+00  1.4098e+00\n",
      " -4.5180e+00 -5.2261e+00 -2.9157e-01  9.5234e-01  6.9880e+00  5.0637e+00\n",
      " -5.5726e-03  3.3395e+00  6.4596e+00 -6.3742e+00  3.9045e-02 -3.9855e+00\n",
      "  1.2085e+00 -1.3186e+00 -4.8886e+00  3.7066e+00 -2.8281e+00 -3.5447e+00\n",
      "  7.6888e-01  1.5016e+00 -4.3632e+00  8.6480e+00 -5.9286e+00 -1.3055e+00\n",
      "  8.3870e-01  9.0137e-01 -1.7843e+00 -1.0148e+00  2.7300e+00 -6.9039e+00\n",
      "  8.0413e-01  7.4880e+00  6.1078e+00 -4.2130e+00 -1.5384e-01 -5.4995e+00\n",
      "  1.0896e+01  3.9278e+00 -1.3601e-01  7.7732e-02  3.2218e+00 -5.8777e+00\n",
      "  6.1359e-01 -2.4287e+00  6.2820e+00  1.3461e+01  4.3236e+00  2.4266e+00\n",
      " -2.6512e+00  1.1577e+00  5.0848e+00 -1.7058e+00  3.3824e+00  3.2850e+00\n",
      "  1.0969e+00 -8.3711e+00 -1.5554e+00  2.0296e+00 -2.6796e+00 -6.9195e+00\n",
      " -2.3386e+00 -1.9916e+00 -3.0450e+00  2.4890e+00  7.3247e+00  1.3364e+00\n",
      "  2.3828e-01  8.4388e-02  3.1480e+00 -1.1128e+00 -3.5598e+00 -1.2115e-01\n",
      " -2.0357e+00 -3.2731e+00 -7.7205e+00  4.0948e+00 -2.0732e+00  2.0833e+00\n",
      " -2.2803e+00 -4.9850e+00  9.7667e+00  6.1779e+00 -1.0352e+01 -2.2268e+00\n",
      "  2.5765e+00 -5.7440e+00  5.5564e+00 -5.2735e+00  3.0004e+00 -4.2512e+00\n",
      " -1.5682e+00  2.2698e+00  1.0491e+00 -9.0486e+00  4.2936e+00  1.8709e+00\n",
      "  5.1985e+00 -1.3153e+00  6.5224e+00  4.0113e-01 -1.2583e+01  3.6534e+00\n",
      " -2.0961e+00  1.0022e+00 -1.7873e+00 -4.2555e+00  7.7471e+00  1.0173e+00\n",
      "  3.1626e+00  2.3558e+00  3.3589e-01 -4.4178e+00  5.0584e+00 -2.4118e+00\n",
      " -2.7445e+00  3.4170e+00 -1.1574e+01 -2.6568e+00 -3.6933e+00 -2.0398e+00\n",
      "  5.0976e+00  6.5249e+00  3.3573e+00  9.5334e-01 -9.4430e-01 -9.4395e+00\n",
      "  2.7867e+00 -1.7549e+00  1.7287e+00  3.4942e+00 -1.6883e+00 -3.5771e+00\n",
      " -1.9013e+00  2.2239e+00 -5.4335e+00 -6.5724e+00 -6.7228e-01 -1.9748e+00\n",
      " -3.1080e+00 -1.8570e+00  9.9496e-01  8.9135e-01 -4.4254e+00  3.3125e-01\n",
      "  5.8815e+00  1.9384e+00  5.7294e-01 -2.8830e+00  3.8087e+00 -1.3095e+00\n",
      "  5.9208e+00  3.3620e+00  3.3571e+00 -3.8807e-01  9.0022e-01 -5.5742e+00\n",
      " -4.2939e+00  1.4992e+00 -4.7080e+00 -2.9402e+00 -1.2259e+00  3.0980e-01\n",
      "  1.8858e+00 -1.9867e+00 -2.3554e-01 -5.4535e-01 -2.1387e-01  2.4797e+00\n",
      "  5.9710e+00 -7.1249e+00  1.6257e+00 -1.5241e+00  7.5974e-01  1.4312e+00\n",
      "  2.3641e+00 -3.5566e+00  9.2066e-01  4.4934e-01 -1.3233e+00  3.1733e+00\n",
      " -4.7059e+00 -1.2090e+01 -3.9241e-01 -6.8457e-01 -3.6789e+00  6.6279e+00\n",
      " -2.9937e+00 -3.8361e+00  1.3868e+00 -4.9002e+00 -2.4299e+00  6.4312e+00\n",
      "  2.5056e+00 -4.5080e+00 -5.1278e+00 -1.5585e+00 -3.0226e+00 -8.6811e-01\n",
      " -1.1538e+00 -1.0022e+00 -9.1651e-01 -4.7810e-01 -1.6084e+00 -2.7307e+00\n",
      "  3.7080e+00  7.7423e-01 -1.1085e+00 -6.8755e-01 -8.2901e+00  3.2405e+00\n",
      " -1.6108e-01 -6.2837e-01 -5.5960e+00 -4.4865e+00  4.0115e-01 -3.7063e+00\n",
      " -2.1704e+00  4.0789e+00 -1.7973e+00  8.9538e+00  8.9421e-01 -4.8128e+00\n",
      "  4.5367e+00 -3.2579e-01 -5.2344e+00 -3.9766e+00 -2.1979e+00  3.5699e+00\n",
      "  1.4982e+00  6.0972e+00 -1.9704e+00  4.6522e+00 -3.7734e-01  3.9101e-02\n",
      "  2.5361e+00 -1.8096e+00  8.7035e+00 -8.6372e+00 -3.5257e+00  3.1034e+00\n",
      "  3.2635e+00  4.5437e+00 -5.7290e+00 -2.9141e-01 -2.0011e+00  8.5328e+00\n",
      " -4.5064e+00 -4.8276e+00 -1.1786e+01  3.5607e-01 -5.7115e+00  6.3122e+00\n",
      " -3.6650e+00  3.3597e-01  2.5017e+00 -3.5025e+00 -3.7891e+00 -3.1343e+00\n",
      " -1.4429e+00 -6.9119e+00 -2.6114e+00 -5.9757e-01  3.7847e-01  6.3187e+00\n",
      "  2.8965e+00 -2.5397e+00  1.8022e+00  3.5486e+00  4.4721e+00 -4.8481e+00\n",
      " -3.6252e+00  4.0969e+00 -2.0081e+00 -2.0122e-01  2.5244e+00 -6.8817e-01\n",
      "  6.7184e-01 -7.0466e+00  1.6641e+00 -2.2308e+00 -3.8960e+00  6.1320e+00\n",
      " -8.0335e+00 -1.7130e+00  2.5688e+00 -5.2547e+00  6.9845e+00  2.7835e-01\n",
      " -6.4554e+00 -2.1327e+00 -5.6515e+00  1.1174e+01 -8.0568e+00  5.7985e+00]\n"
     ]
    }
   ],
   "source": [
    "print(doc[0].vector)\n",
    "#we can see vector by using .vector \n"
   ]
  },
  {
   "cell_type": "code",
   "execution_count": 21,
   "id": "a3ff46f5",
   "metadata": {},
   "outputs": [
    {
     "name": "stdout",
     "output_type": "stream",
     "text": [
      "(300,)\n"
     ]
    }
   ],
   "source": [
    "print(doc[0].vector.shape)"
   ]
  },
  {
   "cell_type": "code",
   "execution_count": 22,
   "id": "855aa3f4",
   "metadata": {},
   "outputs": [
    {
     "data": {
      "text/plain": [
       "(300,)"
      ]
     },
     "execution_count": 22,
     "metadata": {},
     "output_type": "execute_result"
    }
   ],
   "source": [
    "base_token= nlp(\"bread\")\n",
    "base_token.vector.shape"
   ]
  },
  {
   "cell_type": "code",
   "execution_count": 28,
   "id": "ed82b9bd",
   "metadata": {},
   "outputs": [
    {
     "name": "stdout",
     "output_type": "stream",
     "text": [
      "  <-> bread: 0.0\n",
      "bread <-> bread: 1.0\n",
      "sandwich <-> bread: 0.6341067010130894\n",
      "burger <-> bread: 0.47520687769584247\n",
      "car <-> bread: 0.06451532596945217\n",
      "tiger <-> bread: 0.04764611272488976\n",
      "human <-> bread: 0.2151154210812192\n",
      "wheat <-> bread: 0.615036141030184\n"
     ]
    },
    {
     "name": "stderr",
     "output_type": "stream",
     "text": [
      "C:\\Users\\meetm\\AppData\\Local\\Temp/ipykernel_6900/969236668.py:5: UserWarning: [W008] Evaluating Token.similarity based on empty vectors.\n",
      "  print(f\"{token.text} <-> {base_token.text}:\", token.similarity(base_token))\n"
     ]
    }
   ],
   "source": [
    "#checking the similarity between bread and other words \n",
    "# here simillarity means they are appearing in similar context ( they might have more simillarity instead of their meaning is opposite )\n",
    "doc =nlp(\" bread sandwich burger car tiger human wheat\")\n",
    "for token in doc: \n",
    "    print(f\"{token.text} <-> {base_token.text}:\", token.similarity(base_token))"
   ]
  },
  {
   "cell_type": "code",
   "execution_count": 34,
   "id": "b965c7d1",
   "metadata": {},
   "outputs": [],
   "source": [
    "def print_simillarity(base_word,words_to_compare):\n",
    "    base_token = nlp(base_word)\n",
    "    doc=nlp(words_to_compare)\n",
    "    for token in doc:\n",
    "        print(f\"{token.text}<->{base_token.text}:\",token.similarity(base_token))"
   ]
  },
  {
   "cell_type": "code",
   "execution_count": 37,
   "id": "9b5912bc",
   "metadata": {},
   "outputs": [
    {
     "name": "stdout",
     "output_type": "stream",
     "text": [
      "apple<->iphone: 0.4387907748060368\n",
      "samsung<->iphone: 0.6708590303423401\n",
      "iphone<->iphone: 1.0\n",
      "dog<->iphone: 0.08211864228011527\n",
      "kitten<->iphone: 0.10222317834969896\n"
     ]
    }
   ],
   "source": [
    "print_simillarity(\"iphone\",\"apple samsung iphone dog kitten\")\n",
    "# in whatever text this model is trained samsung and iphone have appeared more simillarity \n",
    "# or people tends to have more comparision between both in article from which this model has been trained\n",
    "# two words appearing in same context means they have more similarity"
   ]
  },
  {
   "cell_type": "code",
   "execution_count": 54,
   "id": "a1a7b84a",
   "metadata": {},
   "outputs": [
    {
     "data": {
      "text/plain": [
       "array([ 6.81650043e-01,  1.09660006e+00, -3.35380006e+00,  2.14389992e+00,\n",
       "        1.05335999e+01, -7.33299255e-02, -4.60887003e+00,  8.99870014e+00,\n",
       "       -3.85480022e+00, -2.52349997e+00,  1.81590996e+01,  2.66383982e+00,\n",
       "       -1.02284908e+01,  2.07456970e+00,  3.21600318e-01,  5.07369995e+00,\n",
       "       -8.21799994e-01,  5.49500465e-01, -3.16630006e+00, -6.37947989e+00,\n",
       "       -6.22902966e+00, -6.62579966e+00, -7.85039997e+00,  9.81260014e+00,\n",
       "        1.04760027e+00, -1.75660014e+00,  3.55407977e+00, -7.44498968e-02,\n",
       "       -1.20122004e+00, -6.02220058e-01,  3.42193985e+00, -8.41592026e+00,\n",
       "       -5.09090066e-01, -1.19571695e+01,  5.20279980e+00, -1.55464995e+00,\n",
       "        8.49207020e+00, -3.12830019e+00,  8.09000015e-01, -4.94612026e+00,\n",
       "        2.10519981e+00, -7.10300803e-02, -6.62905025e+00,  4.57670021e+00,\n",
       "       -2.42499995e+00,  4.80897999e+00, -1.14750004e+00,  1.87560010e+00,\n",
       "        1.27900243e-02,  1.16330004e+00, -7.06050014e+00,  4.91039991e+00,\n",
       "       -4.57430029e+00, -7.71290016e+00, -9.67450023e-01,  5.00566006e+00,\n",
       "       -4.29379940e+00, -1.66582012e+00,  2.21028996e+00,  6.39400005e+00,\n",
       "        5.64679861e-01,  1.59900188e-01,  8.10330009e+00, -4.38850021e+00,\n",
       "        6.29769993e+00,  5.40627050e+00, -9.98200035e+00, -4.76529932e+00,\n",
       "        1.07309198e+01,  1.93032002e+00, -2.38219976e+00,  9.56889927e-01,\n",
       "       -5.70742989e+00, -1.23410022e+00, -8.03050041e+00,  7.52699995e+00,\n",
       "       -1.17390003e+01,  6.65459967e+00, -3.03397989e+00,  8.50659943e+00,\n",
       "       -1.02051001e+01,  1.03638899e+00, -2.33229995e+00,  5.39599895e-01,\n",
       "        3.25966978e+00,  5.78679991e+00, -1.11554003e+01, -6.89499950e+00,\n",
       "        2.19378996e+00,  6.01130009e-01,  1.95538998e+00,  1.21709967e+00,\n",
       "       -3.88029957e+00, -6.99019957e+00, -5.17859983e+00,  3.82431507e+00,\n",
       "        1.92760003e+00, -3.98617005e+00, -5.29659986e+00,  1.11914396e+01,\n",
       "       -2.01069975e+00,  1.71425009e+00,  5.86470032e+00,  6.17788982e+00,\n",
       "        1.39779997e+00,  1.00641003e+01,  6.69299841e-01, -1.71378994e+00,\n",
       "       -1.58444905e+00, -1.02448196e+01,  4.43409967e+00,  6.93208027e+00,\n",
       "       -6.76190138e-01, -8.67449951e+00,  1.14181995e+01,  4.06219959e+00,\n",
       "       -1.64120007e+00,  1.59929013e+00,  9.84610021e-01, -6.10432005e+00,\n",
       "        3.79060388e+00, -1.40037990e+00,  8.09480000e+00, -1.31827011e+01,\n",
       "       -3.59091806e+00, -1.10055008e+01, -4.39604044e+00, -8.73853111e+00,\n",
       "       -2.45548010e+00,  6.89998865e-02, -8.52629948e+00, -1.22984982e+00,\n",
       "       -7.00099707e-01,  5.79665995e+00,  6.99059963e-01, -6.95400238e-01,\n",
       "       -6.01119995e+00,  6.29264975e+00, -8.13700080e-01, -7.28910017e+00,\n",
       "        9.89202857e-02,  2.72999763e-01, -8.65499973e-01,  5.14219999e+00,\n",
       "        1.16779995e+00,  1.32667971e+00, -5.50919914e+00,  9.98700142e-01,\n",
       "        9.07310963e+00,  8.75959992e-02, -2.73867297e+00,  4.68219995e+00,\n",
       "       -1.72632003e+00,  1.16845045e+01,  5.68400002e+00, -1.48430002e+00,\n",
       "       -9.81230021e-01, -1.17024004e+00, -5.46759987e+00, -9.42420006e+00,\n",
       "       -1.14530001e+01, -4.69040060e+00,  2.99443483e+00, -2.31873035e-01,\n",
       "        1.91679990e+00, -7.66159010e+00, -1.06185007e+01, -4.09858990e+00,\n",
       "       -2.54316998e+00, -1.29376006e+00,  5.28850031e+00, -2.29070044e+00,\n",
       "       -4.87129974e+00,  2.92457962e+00, -1.97934985e+00, -1.03049994e+00,\n",
       "        4.24166965e+00,  3.35429907e-01, -4.76280022e+00, -4.32509995e+00,\n",
       "       -3.70519996e+00, -3.08489990e+00, -2.23324990e+00, -4.78342009e+00,\n",
       "        5.60506010e+00,  4.68835020e+00, -6.90429020e+00, -1.02265000e+00,\n",
       "        1.32299995e+00,  3.08432984e+00,  2.98316002e+00, -6.03709936e+00,\n",
       "       -5.29970026e+00,  4.21560001e+00,  6.04983997e+00,  2.14797902e+00,\n",
       "       -8.57471943e+00,  6.10017776e-03, -1.24700975e+00,  6.22265053e+00,\n",
       "       -2.77199745e-01, -4.59309936e-01, -5.91609955e+00,  4.80689913e-01,\n",
       "        5.02190018e+00, -4.23480034e+00, -1.95163989e+00,  6.76069975e+00,\n",
       "        9.61469829e-01,  1.12277899e+01,  9.75799918e-01, -1.07294011e+00,\n",
       "        5.85403013e+00,  6.01700068e-01,  1.21784985e+00,  2.33830976e+00,\n",
       "        5.06947994e+00, -1.01886501e+01,  3.54871011e+00, -8.61590004e+00,\n",
       "       -8.64990044e+00,  8.76504993e+00, -6.69800282e-01,  5.10480022e+00,\n",
       "       -6.30860090e-01, -2.19726038e+00,  7.31400013e-01,  1.34989977e+00,\n",
       "       -2.27814007e+00,  1.05931997e+01,  2.13435006e+00,  3.11191988e+00,\n",
       "       -6.33900046e-01,  4.68839979e+00,  7.72879982e+00,  1.16243000e+01,\n",
       "        5.78729963e+00, -1.16716027e+00, -2.29169989e+00,  5.78599977e+00,\n",
       "       -3.38760018e-01,  4.96759987e+00, -5.50869989e+00, -9.17999864e-01,\n",
       "       -1.10740018e+00, -1.33320022e+00, -6.90400124e-01,  3.64639997e+00,\n",
       "        7.76760006e+00,  3.40360999e+00, -1.80002999e+00, -7.84740067e+00,\n",
       "       -7.06546021e+00,  1.94960010e+00,  2.45264006e+00, -1.46844692e+01,\n",
       "        6.50580025e+00, -8.47709596e-01,  5.66949964e-01,  3.07490015e+00,\n",
       "        2.24340010e+00, -2.73927999e+00,  3.37930012e+00,  4.13644028e+00,\n",
       "        6.22959995e+00,  5.11178970e-01, -4.03164959e+00,  4.51229000e+00,\n",
       "       -1.09384003e+01,  7.15110016e+00,  8.34399939e-01, -2.92253017e+00,\n",
       "       -3.60840034e+00, -3.94747996e+00, -3.47591996e+00, -3.63510013e+00,\n",
       "        1.14880013e+00, -7.09845018e+00, -4.61420059e+00, -4.04650021e+00,\n",
       "        4.85039997e+00, -2.00090003e+00,  5.93400002e+00, -1.78900242e-01,\n",
       "       -4.08580017e+00,  2.16451001e+00,  1.78816986e+00,  3.52139997e+00,\n",
       "       -5.11670017e+00, -5.89580011e+00,  4.70190001e+00,  6.86180019e+00,\n",
       "       -6.15592194e+00, -1.33841991e+00,  2.58199930e-01,  2.51969957e+00,\n",
       "        4.24003601e-03, -1.28100996e+01, -1.00390701e+01,  4.40939999e+00],\n",
       "      dtype=float32)"
      ]
     },
     "execution_count": 54,
     "metadata": {},
     "output_type": "execute_result"
    }
   ],
   "source": [
    "#\"king\" in nlp.vocab\n",
    "king =nlp.vocab[\"king\"].vector\n",
    "man=nlp.vocab[\"man\"].vector\n",
    "women = nlp.vocab[\"women\"].vector\n",
    "queen = nlp.vocab[\"queen\"].vector\n",
    "\n",
    "result = (king - man) + women\n",
    "#here we are subtracting feature of man from king  and feature of women to king \n",
    "#this might give high similarity between queen and result because there is only \n",
    "#deference between king and queen is mainly of gender \n",
    "result"
   ]
  },
  {
   "cell_type": "code",
   "execution_count": 55,
   "id": "05dbde42",
   "metadata": {},
   "outputs": [
    {
     "data": {
      "text/plain": [
       "array([[0.36506236]], dtype=float32)"
      ]
     },
     "execution_count": 55,
     "metadata": {},
     "output_type": "execute_result"
    }
   ],
   "source": [
    "#checking the similarity beween result we obtain and queen\n",
    "from sklearn.metrics.pairwise import cosine_similarity\n",
    "cosine_similarity([result],[queen])"
   ]
  },
  {
   "cell_type": "code",
   "execution_count": null,
   "id": "3541506e",
   "metadata": {},
   "outputs": [],
   "source": []
  }
 ],
 "metadata": {
  "kernelspec": {
   "display_name": "Python 3 (ipykernel)",
   "language": "python",
   "name": "python3"
  },
  "language_info": {
   "codemirror_mode": {
    "name": "ipython",
    "version": 3
   },
   "file_extension": ".py",
   "mimetype": "text/x-python",
   "name": "python",
   "nbconvert_exporter": "python",
   "pygments_lexer": "ipython3",
   "version": "3.9.12"
  }
 },
 "nbformat": 4,
 "nbformat_minor": 5
}
